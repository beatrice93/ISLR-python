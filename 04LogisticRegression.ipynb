{
 "cells": [
  {
   "cell_type": "markdown",
   "metadata": {},
   "source": [
    "# **LAB: LOGISTIC REGRESSION**\n",
    "Packages used:\n",
    " - `statsmodels` is meant for \"conducting statistical tests, and statistical data exploration\" it is technically more similar to R in its function, syntax and general use;\n",
    " - `sklearn` is meant for prediction; knowledge of scikit-learn is a very valuable skill nowadays, so I thought it best to include it;\n",
    " - and of course, `pandas` for data wrangling and organizing, as well as `matplotlib` and `seaborn` for pictures.\n"
   ]
  },
  {
   "cell_type": "markdown",
   "metadata": {},
   "source": [
    "## **0. Preliminaries.**"
   ]
  },
  {
   "cell_type": "markdown",
   "metadata": {},
   "source": [
    "Import the necessary packages:"
   ]
  },
  {
   "cell_type": "code",
   "execution_count": 1,
   "metadata": {},
   "outputs": [],
   "source": [
    "%matplotlib inline\n",
    "import matplotlib.pyplot as plt\n",
    "import numpy as np\n",
    "import pandas as pd\n",
    "import sklearn\n",
    "import seaborn as sns\n",
    "import statsmodels.api as sm\n",
    "\n",
    "sns.set_theme(style=\"darkgrid\")"
   ]
  },
  {
   "cell_type": "markdown",
   "metadata": {},
   "source": [
    "We'll work with the `Smarket` dataset, which contains the percentage returns for the S&P 500 stock index over $1250$ days, from $2001$ to $2005$. For each date, the dataset contains the percentage returns for each of the five previous trading days, stored in the columns `Lag1` through `Lag5`.\n",
    "The column `Volume` corresponds to the number of shares traded on the previous day (in billions), `Today|` the percentage return on the date, and `Direction` whether the market was up or down on this date.\n",
    "\n",
    "This dataset is part of the ISLR package; a .csv version is available in the data folder. \n",
    "\n",
    "We use `df.describe()` to get a summary of our data."
   ]
  },
  {
   "cell_type": "code",
   "execution_count": 2,
   "metadata": {},
   "outputs": [
    {
     "data": {
      "text/html": [
       "<div>\n",
       "<style scoped>\n",
       "    .dataframe tbody tr th:only-of-type {\n",
       "        vertical-align: middle;\n",
       "    }\n",
       "\n",
       "    .dataframe tbody tr th {\n",
       "        vertical-align: top;\n",
       "    }\n",
       "\n",
       "    .dataframe thead th {\n",
       "        text-align: right;\n",
       "    }\n",
       "</style>\n",
       "<table border=\"1\" class=\"dataframe\">\n",
       "  <thead>\n",
       "    <tr style=\"text-align: right;\">\n",
       "      <th></th>\n",
       "      <th>Year</th>\n",
       "      <th>Lag1</th>\n",
       "      <th>Lag2</th>\n",
       "      <th>Lag3</th>\n",
       "      <th>Lag4</th>\n",
       "      <th>Lag5</th>\n",
       "      <th>Volume</th>\n",
       "      <th>Today</th>\n",
       "    </tr>\n",
       "  </thead>\n",
       "  <tbody>\n",
       "    <tr>\n",
       "      <th>count</th>\n",
       "      <td>1250.000000</td>\n",
       "      <td>1250.000000</td>\n",
       "      <td>1250.000000</td>\n",
       "      <td>1250.000000</td>\n",
       "      <td>1250.000000</td>\n",
       "      <td>1250.00000</td>\n",
       "      <td>1250.000000</td>\n",
       "      <td>1250.000000</td>\n",
       "    </tr>\n",
       "    <tr>\n",
       "      <th>mean</th>\n",
       "      <td>2003.016000</td>\n",
       "      <td>0.003834</td>\n",
       "      <td>0.003919</td>\n",
       "      <td>0.001716</td>\n",
       "      <td>0.001636</td>\n",
       "      <td>0.00561</td>\n",
       "      <td>1.478305</td>\n",
       "      <td>0.003138</td>\n",
       "    </tr>\n",
       "    <tr>\n",
       "      <th>std</th>\n",
       "      <td>1.409018</td>\n",
       "      <td>1.136299</td>\n",
       "      <td>1.136280</td>\n",
       "      <td>1.138703</td>\n",
       "      <td>1.138774</td>\n",
       "      <td>1.14755</td>\n",
       "      <td>0.360357</td>\n",
       "      <td>1.136334</td>\n",
       "    </tr>\n",
       "    <tr>\n",
       "      <th>min</th>\n",
       "      <td>2001.000000</td>\n",
       "      <td>-4.922000</td>\n",
       "      <td>-4.922000</td>\n",
       "      <td>-4.922000</td>\n",
       "      <td>-4.922000</td>\n",
       "      <td>-4.92200</td>\n",
       "      <td>0.356070</td>\n",
       "      <td>-4.922000</td>\n",
       "    </tr>\n",
       "    <tr>\n",
       "      <th>25%</th>\n",
       "      <td>2002.000000</td>\n",
       "      <td>-0.639500</td>\n",
       "      <td>-0.639500</td>\n",
       "      <td>-0.640000</td>\n",
       "      <td>-0.640000</td>\n",
       "      <td>-0.64000</td>\n",
       "      <td>1.257400</td>\n",
       "      <td>-0.639500</td>\n",
       "    </tr>\n",
       "    <tr>\n",
       "      <th>50%</th>\n",
       "      <td>2003.000000</td>\n",
       "      <td>0.039000</td>\n",
       "      <td>0.039000</td>\n",
       "      <td>0.038500</td>\n",
       "      <td>0.038500</td>\n",
       "      <td>0.03850</td>\n",
       "      <td>1.422950</td>\n",
       "      <td>0.038500</td>\n",
       "    </tr>\n",
       "    <tr>\n",
       "      <th>75%</th>\n",
       "      <td>2004.000000</td>\n",
       "      <td>0.596750</td>\n",
       "      <td>0.596750</td>\n",
       "      <td>0.596750</td>\n",
       "      <td>0.596750</td>\n",
       "      <td>0.59700</td>\n",
       "      <td>1.641675</td>\n",
       "      <td>0.596750</td>\n",
       "    </tr>\n",
       "    <tr>\n",
       "      <th>max</th>\n",
       "      <td>2005.000000</td>\n",
       "      <td>5.733000</td>\n",
       "      <td>5.733000</td>\n",
       "      <td>5.733000</td>\n",
       "      <td>5.733000</td>\n",
       "      <td>5.73300</td>\n",
       "      <td>3.152470</td>\n",
       "      <td>5.733000</td>\n",
       "    </tr>\n",
       "  </tbody>\n",
       "</table>\n",
       "</div>"
      ],
      "text/plain": [
       "              Year         Lag1         Lag2         Lag3         Lag4  \\\n",
       "count  1250.000000  1250.000000  1250.000000  1250.000000  1250.000000   \n",
       "mean   2003.016000     0.003834     0.003919     0.001716     0.001636   \n",
       "std       1.409018     1.136299     1.136280     1.138703     1.138774   \n",
       "min    2001.000000    -4.922000    -4.922000    -4.922000    -4.922000   \n",
       "25%    2002.000000    -0.639500    -0.639500    -0.640000    -0.640000   \n",
       "50%    2003.000000     0.039000     0.039000     0.038500     0.038500   \n",
       "75%    2004.000000     0.596750     0.596750     0.596750     0.596750   \n",
       "max    2005.000000     5.733000     5.733000     5.733000     5.733000   \n",
       "\n",
       "             Lag5       Volume        Today  \n",
       "count  1250.00000  1250.000000  1250.000000  \n",
       "mean      0.00561     1.478305     0.003138  \n",
       "std       1.14755     0.360357     1.136334  \n",
       "min      -4.92200     0.356070    -4.922000  \n",
       "25%      -0.64000     1.257400    -0.639500  \n",
       "50%       0.03850     1.422950     0.038500  \n",
       "75%       0.59700     1.641675     0.596750  \n",
       "max       5.73300     3.152470     5.733000  "
      ]
     },
     "execution_count": 2,
     "metadata": {},
     "output_type": "execute_result"
    }
   ],
   "source": [
    "df = pd.read_csv('data/Smarket.csv')\n",
    "df.describe()"
   ]
  },
  {
   "cell_type": "markdown",
   "metadata": {},
   "source": [
    "pandas DataFrames have a `.corr()` method that displays the correlation matrix. It ignores categorical variables by default."
   ]
  },
  {
   "cell_type": "code",
   "execution_count": 3,
   "metadata": {},
   "outputs": [
    {
     "data": {
      "text/html": [
       "<div>\n",
       "<style scoped>\n",
       "    .dataframe tbody tr th:only-of-type {\n",
       "        vertical-align: middle;\n",
       "    }\n",
       "\n",
       "    .dataframe tbody tr th {\n",
       "        vertical-align: top;\n",
       "    }\n",
       "\n",
       "    .dataframe thead th {\n",
       "        text-align: right;\n",
       "    }\n",
       "</style>\n",
       "<table border=\"1\" class=\"dataframe\">\n",
       "  <thead>\n",
       "    <tr style=\"text-align: right;\">\n",
       "      <th></th>\n",
       "      <th>Year</th>\n",
       "      <th>Lag1</th>\n",
       "      <th>Lag2</th>\n",
       "      <th>Lag3</th>\n",
       "      <th>Lag4</th>\n",
       "      <th>Lag5</th>\n",
       "      <th>Volume</th>\n",
       "      <th>Today</th>\n",
       "    </tr>\n",
       "  </thead>\n",
       "  <tbody>\n",
       "    <tr>\n",
       "      <th>Year</th>\n",
       "      <td>1.000000</td>\n",
       "      <td>0.029700</td>\n",
       "      <td>0.030596</td>\n",
       "      <td>0.033195</td>\n",
       "      <td>0.035689</td>\n",
       "      <td>0.029788</td>\n",
       "      <td>0.539006</td>\n",
       "      <td>0.030095</td>\n",
       "    </tr>\n",
       "    <tr>\n",
       "      <th>Lag1</th>\n",
       "      <td>0.029700</td>\n",
       "      <td>1.000000</td>\n",
       "      <td>-0.026294</td>\n",
       "      <td>-0.010803</td>\n",
       "      <td>-0.002986</td>\n",
       "      <td>-0.005675</td>\n",
       "      <td>0.040910</td>\n",
       "      <td>-0.026155</td>\n",
       "    </tr>\n",
       "    <tr>\n",
       "      <th>Lag2</th>\n",
       "      <td>0.030596</td>\n",
       "      <td>-0.026294</td>\n",
       "      <td>1.000000</td>\n",
       "      <td>-0.025897</td>\n",
       "      <td>-0.010854</td>\n",
       "      <td>-0.003558</td>\n",
       "      <td>-0.043383</td>\n",
       "      <td>-0.010250</td>\n",
       "    </tr>\n",
       "    <tr>\n",
       "      <th>Lag3</th>\n",
       "      <td>0.033195</td>\n",
       "      <td>-0.010803</td>\n",
       "      <td>-0.025897</td>\n",
       "      <td>1.000000</td>\n",
       "      <td>-0.024051</td>\n",
       "      <td>-0.018808</td>\n",
       "      <td>-0.041824</td>\n",
       "      <td>-0.002448</td>\n",
       "    </tr>\n",
       "    <tr>\n",
       "      <th>Lag4</th>\n",
       "      <td>0.035689</td>\n",
       "      <td>-0.002986</td>\n",
       "      <td>-0.010854</td>\n",
       "      <td>-0.024051</td>\n",
       "      <td>1.000000</td>\n",
       "      <td>-0.027084</td>\n",
       "      <td>-0.048414</td>\n",
       "      <td>-0.006900</td>\n",
       "    </tr>\n",
       "    <tr>\n",
       "      <th>Lag5</th>\n",
       "      <td>0.029788</td>\n",
       "      <td>-0.005675</td>\n",
       "      <td>-0.003558</td>\n",
       "      <td>-0.018808</td>\n",
       "      <td>-0.027084</td>\n",
       "      <td>1.000000</td>\n",
       "      <td>-0.022002</td>\n",
       "      <td>-0.034860</td>\n",
       "    </tr>\n",
       "    <tr>\n",
       "      <th>Volume</th>\n",
       "      <td>0.539006</td>\n",
       "      <td>0.040910</td>\n",
       "      <td>-0.043383</td>\n",
       "      <td>-0.041824</td>\n",
       "      <td>-0.048414</td>\n",
       "      <td>-0.022002</td>\n",
       "      <td>1.000000</td>\n",
       "      <td>0.014592</td>\n",
       "    </tr>\n",
       "    <tr>\n",
       "      <th>Today</th>\n",
       "      <td>0.030095</td>\n",
       "      <td>-0.026155</td>\n",
       "      <td>-0.010250</td>\n",
       "      <td>-0.002448</td>\n",
       "      <td>-0.006900</td>\n",
       "      <td>-0.034860</td>\n",
       "      <td>0.014592</td>\n",
       "      <td>1.000000</td>\n",
       "    </tr>\n",
       "  </tbody>\n",
       "</table>\n",
       "</div>"
      ],
      "text/plain": [
       "            Year      Lag1      Lag2      Lag3      Lag4      Lag5    Volume  \\\n",
       "Year    1.000000  0.029700  0.030596  0.033195  0.035689  0.029788  0.539006   \n",
       "Lag1    0.029700  1.000000 -0.026294 -0.010803 -0.002986 -0.005675  0.040910   \n",
       "Lag2    0.030596 -0.026294  1.000000 -0.025897 -0.010854 -0.003558 -0.043383   \n",
       "Lag3    0.033195 -0.010803 -0.025897  1.000000 -0.024051 -0.018808 -0.041824   \n",
       "Lag4    0.035689 -0.002986 -0.010854 -0.024051  1.000000 -0.027084 -0.048414   \n",
       "Lag5    0.029788 -0.005675 -0.003558 -0.018808 -0.027084  1.000000 -0.022002   \n",
       "Volume  0.539006  0.040910 -0.043383 -0.041824 -0.048414 -0.022002  1.000000   \n",
       "Today   0.030095 -0.026155 -0.010250 -0.002448 -0.006900 -0.034860  0.014592   \n",
       "\n",
       "           Today  \n",
       "Year    0.030095  \n",
       "Lag1   -0.026155  \n",
       "Lag2   -0.010250  \n",
       "Lag3   -0.002448  \n",
       "Lag4   -0.006900  \n",
       "Lag5   -0.034860  \n",
       "Volume  0.014592  \n",
       "Today   1.000000  "
      ]
     },
     "execution_count": 3,
     "metadata": {},
     "output_type": "execute_result"
    }
   ],
   "source": [
    "df.corr()"
   ]
  },
  {
   "cell_type": "markdown",
   "metadata": {},
   "source": [
    "Look at the `Today` column: the values are pretty small, which (as one would expect) means the returns of the day have little to do with the returns of the previous days. There does seem to be a substantial correlation between `Year` and `Volume`. Let's plot our data to check:"
   ]
  },
  {
   "cell_type": "code",
   "execution_count": 4,
   "metadata": {},
   "outputs": [
    {
     "data": {
      "text/plain": [
       "<AxesSubplot:xlabel='Year', ylabel='Volume'>"
      ]
     },
     "execution_count": 4,
     "metadata": {},
     "output_type": "execute_result"
    },
    {
     "data": {
      "image/png": "[encoded data removed]",
      "text/plain": [
       "<Figure size 432x288 with 1 Axes>"
      ]
     },
     "metadata": {},
     "output_type": "display_data"
    }
   ],
   "source": [
    "sns.lineplot(x='Year', y='Volume', data=df)"
   ]
  },
  {
   "cell_type": "markdown",
   "metadata": {},
   "source": [
    "The volume traded increased between 2001 and 2005: that's a positive correlation, which is what we got in our correlation matrix."
   ]
  },
  {
   "cell_type": "markdown",
   "metadata": {},
   "source": [
    "## **1. Logistic Regression**\n",
    "We fit a logistic regression model to try to predict `Direction` in terms of `Lag1` through `Lag5`, and `Volume`.\n",
    "\n",
    "First, we convert our categorical variable to a dummy variable."
   ]
  },
  {
   "cell_type": "code",
   "execution_count": 5,
   "metadata": {},
   "outputs": [],
   "source": [
    "df = pd.get_dummies(df, drop_first=True)"
   ]
  },
  {
   "cell_type": "code",
   "execution_count": 6,
   "metadata": {},
   "outputs": [],
   "source": [
    "X = df[['Lag1', 'Lag2', 'Lag3', 'Lag4', 'Lag5', 'Volume']]\n",
    "y = df['Direction_Up']"
   ]
  },
  {
   "cell_type": "markdown",
   "metadata": {},
   "source": [
    "### 1.1 Basic syntax.\n",
    "`statsmodels`'s Logistic Regression function is called `Logit()`:"
   ]
  },
  {
   "cell_type": "code",
   "execution_count": 7,
   "metadata": {},
   "outputs": [
    {
     "name": "stdout",
     "output_type": "stream",
     "text": [
      "Optimization terminated successfully.\n",
      "         Current function value: 2.197001\n",
      "         Iterations 4\n",
      "                           Logit Regression Results                           \n",
      "==============================================================================\n",
      "Dep. Variable:           Direction_Up   No. Observations:                 1250\n",
      "Model:                          Logit   Df Residuals:                     1243\n",
      "Method:                           MLE   Df Model:                            6\n",
      "Date:                Tue, 06 Oct 2020   Pseudo R-squ.:                     inf\n",
      "Time:                        13:58:11   Log-Likelihood:                -2746.3\n",
      "converged:                       True   LL-Null:                        0.0000\n",
      "Covariance Type:            nonrobust   LLR p-value:                     1.000\n",
      "==============================================================================\n",
      "                 coef    std err          z      P>|z|      [0.025      0.975]\n",
      "------------------------------------------------------------------------------\n",
      "const         -0.1260      0.241     -0.523      0.601      -0.598       0.346\n",
      "Lag1          -0.0731      0.050     -1.457      0.145      -0.171       0.025\n",
      "Lag2          -0.0423      0.050     -0.845      0.398      -0.140       0.056\n",
      "Lag3           0.0111      0.050      0.222      0.824      -0.087       0.109\n",
      "Lag4           0.0094      0.050      0.187      0.851      -0.089       0.107\n",
      "Lag5           0.0103      0.050      0.208      0.835      -0.087       0.107\n",
      "Volume         0.1354      0.158      0.855      0.392      -0.175       0.446\n",
      "==============================================================================\n"
     ]
    },
    {
     "name": "stderr",
     "output_type": "stream",
     "text": [
      "/home/keroubino/.local/lib/python3.8/site-packages/statsmodels/base/model.py:547: HessianInversionWarning: Inverting hessian failed, no bse or cov_params available\n",
      "  warnings.warn('Inverting hessian failed, no bse or cov_params '\n",
      "/home/keroubino/.local/lib/python3.8/site-packages/statsmodels/base/model.py:547: HessianInversionWarning: Inverting hessian failed, no bse or cov_params available\n",
      "  warnings.warn('Inverting hessian failed, no bse or cov_params '\n",
      "/home/keroubino/.local/lib/python3.8/site-packages/statsmodels/discrete/discrete_model.py:3489: RuntimeWarning: divide by zero encountered in double_scalars\n",
      "  return 1 - self.llf/self.llnull\n"
     ]
    }
   ],
   "source": [
    "X_sm = sm.add_constant(X)\n",
    "logit_sm = sm.Logit(y, X_sm)\n",
    "logit_sm_res = logit_sm.fit()\n",
    "print(logit_sm_res.summary())"
   ]
  },
  {
   "cell_type": "markdown",
   "metadata": {},
   "source": [
    "(I'll just ignore the warning...)\n",
    "\n",
    "The p-values are all fairly large; the only low-ish one is for `Lag1`, and even this one is quite high. So it seems that the direction of the market can't be predicted well from the figures of the previous days.\n",
    "\n",
    "To access just the coefficients, we look at the `params` attribute of the fitted model."
   ]
  },
  {
   "cell_type": "code",
   "execution_count": 8,
   "metadata": {},
   "outputs": [
    {
     "data": {
      "text/plain": [
       "const    -0.126000\n",
       "Lag1     -0.073074\n",
       "Lag2     -0.042301\n",
       "Lag3      0.011085\n",
       "Lag4      0.009359\n",
       "Lag5      0.010313\n",
       "Volume    0.135441\n",
       "dtype: float64"
      ]
     },
     "execution_count": 8,
     "metadata": {},
     "output_type": "execute_result"
    }
   ],
   "source": [
    "logit_sm_res.params"
   ]
  },
  {
   "cell_type": "markdown",
   "metadata": {},
   "source": [
    "The p-values are stored in the `pvalues` attribute (duh):"
   ]
  },
  {
   "cell_type": "code",
   "execution_count": 9,
   "metadata": {},
   "outputs": [
    {
     "data": {
      "text/plain": [
       "const     0.600700\n",
       "Lag1      0.145232\n",
       "Lag2      0.398352\n",
       "Lag3      0.824334\n",
       "Lag4      0.851445\n",
       "Lag5      0.834998\n",
       "Volume    0.392404\n",
       "dtype: float64"
      ]
     },
     "execution_count": 9,
     "metadata": {},
     "output_type": "execute_result"
    }
   ],
   "source": [
    "logit_sm_res.pvalues"
   ]
  },
  {
   "cell_type": "markdown",
   "metadata": {},
   "source": [
    "The method `.predict()` returns the predictions of our fitted model; by default, those predictions are done using the training data. Here, we get an array with 1250 entries (our original number of observations) corresponding to the probability that the market will go up each day. In other words, the $i$-th element in the array is $P(Y=1 \\vert X_i)$. "
   ]
  },
  {
   "cell_type": "code",
   "execution_count": 10,
   "metadata": {},
   "outputs": [
    {
     "data": {
      "text/plain": [
       "array([0.50708413, 0.48146788, 0.48113883, ..., 0.5392683 , 0.52611829,\n",
       "       0.51791656])"
      ]
     },
     "execution_count": 10,
     "metadata": {},
     "output_type": "execute_result"
    }
   ],
   "source": [
    "logit_sm_res.predict()"
   ]
  },
  {
   "cell_type": "markdown",
   "metadata": {},
   "source": [
    "To check how our model did, we can use the `pred_table()` method to display a confusion matrix. "
   ]
  },
  {
   "cell_type": "code",
   "execution_count": 11,
   "metadata": {},
   "outputs": [
    {
     "data": {
      "text/plain": [
       "array([[145., 457.],\n",
       "       [141., 507.]])"
      ]
     },
     "execution_count": 11,
     "metadata": {},
     "output_type": "execute_result"
    }
   ],
   "source": [
    "logit_sm_res.pred_table()"
   ]
  },
  {
   "cell_type": "markdown",
   "metadata": {},
   "source": [
    "Diagonal entries indicate correct predictions and off-diagonal ones indicate incorrect predictions. So our model predicted the market direction in $145+507 = 652$ cases, that is, we got a training error rate of $47.8\\%$. Considering the training error is often overly optimistic, it's... not great."
   ]
  },
  {
   "cell_type": "markdown",
   "metadata": {},
   "source": [
    "Before we move on, let's go over the syntax for `sklearn`'s logit models."
   ]
  },
  {
   "cell_type": "code",
   "execution_count": 12,
   "metadata": {},
   "outputs": [],
   "source": [
    "from sklearn.linear_model import LogisticRegression"
   ]
  },
  {
   "cell_type": "code",
   "execution_count": 13,
   "metadata": {},
   "outputs": [
    {
     "data": {
      "text/plain": [
       "LogisticRegression()"
      ]
     },
     "execution_count": 13,
     "metadata": {},
     "output_type": "execute_result"
    }
   ],
   "source": [
    "logit_sk = LogisticRegression()\n",
    "logit_sk.fit(X, y)"
   ]
  },
  {
   "cell_type": "markdown",
   "metadata": {},
   "source": [
    "p-values aren't implemented (and likely never will be) in `sklearn` so we'll skip to evaluating our model directly. \n",
    "\n",
    "We get our predictions with the `predict()` method. We can also call `predict_proba()` to get the probabilities (as we did above) and `predict_log_proba()` for the log-probabilities."
   ]
  },
  {
   "cell_type": "code",
   "execution_count": 14,
   "metadata": {},
   "outputs": [
    {
     "data": {
      "text/plain": [
       "array([1, 0, 0, ..., 1, 1, 1], dtype=uint8)"
      ]
     },
     "execution_count": 14,
     "metadata": {},
     "output_type": "execute_result"
    }
   ],
   "source": [
    "logit_sk.predict(X)"
   ]
  },
  {
   "cell_type": "markdown",
   "metadata": {},
   "source": [
    "To get the proportion of correct predictions, we call the `score()` method, passing the observations (here $X$) and the true values ($y$)."
   ]
  },
  {
   "cell_type": "code",
   "execution_count": 15,
   "metadata": {},
   "outputs": [
    {
     "data": {
      "text/plain": [
       "0.5208"
      ]
     },
     "execution_count": 15,
     "metadata": {},
     "output_type": "execute_result"
    }
   ],
   "source": [
    "logit_sk.score(X, y)"
   ]
  },
  {
   "cell_type": "markdown",
   "metadata": {},
   "source": [
    "### 1.2. Train/test splits.\n",
    "\n",
    "To get a better idea of the true error rate, we might want to evaluate our model on observations it hasn't seen before; so we divide our data into a _training set_, which we'll use to fit our model, and a _test set_, on which we'll make predictions.\n",
    "\n",
    "This notion is explored in detail in Chapter 5 of ISLR (Resampling methods); for now, we'll use years 2001 to 2004 as our training set and year 2005 as our test set. "
   ]
  },
  {
   "cell_type": "code",
   "execution_count": 16,
   "metadata": {},
   "outputs": [],
   "source": [
    "df_train = df.loc[df['Year'] < 2005]\n",
    "df_test = df.loc[df['Year'] == 2005]"
   ]
  },
  {
   "cell_type": "markdown",
   "metadata": {},
   "source": [
    "We prepare our independent variables for `statsmodels` as follows:"
   ]
  },
  {
   "cell_type": "code",
   "execution_count": 17,
   "metadata": {},
   "outputs": [],
   "source": [
    "X_train = df_train[['Lag1', 'Lag2', 'Lag3', 'Lag4', 'Lag5', 'Volume']]\n",
    "X_test = df_test[['Lag1', 'Lag2', 'Lag3', 'Lag4', 'Lag5', 'Volume']]\n",
    "y_train = df_train['Direction_Up']\n",
    "y_test = df_test['Direction_Up']\n",
    "X_train_sm = sm.add_constant(X_train)\n",
    "X_test_sm = sm.add_constant(X_test)"
   ]
  },
  {
   "cell_type": "code",
   "execution_count": 18,
   "metadata": {},
   "outputs": [
    {
     "name": "stdout",
     "output_type": "stream",
     "text": [
      "Optimization terminated successfully.\n",
      "         Current function value: 3.346650\n",
      "         Iterations 4\n",
      "                           Logit Regression Results                           \n",
      "==============================================================================\n",
      "Dep. Variable:           Direction_Up   No. Observations:                  998\n",
      "Model:                          Logit   Df Residuals:                      991\n",
      "Method:                           MLE   Df Model:                            6\n",
      "Date:                Tue, 06 Oct 2020   Pseudo R-squ.:                     inf\n",
      "Time:                        13:58:14   Log-Likelihood:                -3340.0\n",
      "converged:                       True   LL-Null:                        0.0000\n",
      "Covariance Type:            nonrobust   LLR p-value:                     1.000\n",
      "==============================================================================\n",
      "                 coef    std err          z      P>|z|      [0.025      0.975]\n",
      "------------------------------------------------------------------------------\n",
      "const          0.1912      0.334      0.573      0.567      -0.463       0.845\n",
      "Lag1          -0.0542      0.052     -1.046      0.295      -0.156       0.047\n",
      "Lag2          -0.0458      0.052     -0.884      0.377      -0.147       0.056\n",
      "Lag3           0.0072      0.052      0.139      0.889      -0.094       0.108\n",
      "Lag4           0.0064      0.052      0.125      0.901      -0.095       0.108\n",
      "Lag5          -0.0042      0.051     -0.083      0.934      -0.104       0.096\n",
      "Volume        -0.1163      0.240     -0.485      0.628      -0.586       0.353\n",
      "==============================================================================\n"
     ]
    },
    {
     "name": "stderr",
     "output_type": "stream",
     "text": [
      "/home/keroubino/.local/lib/python3.8/site-packages/statsmodels/base/model.py:547: HessianInversionWarning: Inverting hessian failed, no bse or cov_params available\n",
      "  warnings.warn('Inverting hessian failed, no bse or cov_params '\n",
      "/home/keroubino/.local/lib/python3.8/site-packages/statsmodels/base/model.py:547: HessianInversionWarning: Inverting hessian failed, no bse or cov_params available\n",
      "  warnings.warn('Inverting hessian failed, no bse or cov_params '\n",
      "/home/keroubino/.local/lib/python3.8/site-packages/statsmodels/discrete/discrete_model.py:3489: RuntimeWarning: divide by zero encountered in double_scalars\n",
      "  return 1 - self.llf/self.llnull\n"
     ]
    }
   ],
   "source": [
    "logitsm_split = sm.Logit(y_train, X_train_sm) \n",
    "logitsm_split_res = logitsm_split.fit()\n",
    "print((logitsm_split_res).summary())"
   ]
  },
  {
   "cell_type": "markdown",
   "metadata": {},
   "source": [
    "Again, let's just ignore the warning...\n",
    "\n",
    "As far as I've seen, there's no `statsmodels` method to evaluate our predictions directly (since `pred_table` doesn't allow to pass a test set). We can, however, do it with pandas; the following code makes a dataframe with our predictions, then returns the confusion matrix:"
   ]
  },
  {
   "cell_type": "code",
   "execution_count": 19,
   "metadata": {},
   "outputs": [
    {
     "data": {
      "text/html": [
       "<div>\n",
       "<style scoped>\n",
       "    .dataframe tbody tr th:only-of-type {\n",
       "        vertical-align: middle;\n",
       "    }\n",
       "\n",
       "    .dataframe tbody tr th {\n",
       "        vertical-align: top;\n",
       "    }\n",
       "\n",
       "    .dataframe thead th {\n",
       "        text-align: right;\n",
       "    }\n",
       "</style>\n",
       "<table border=\"1\" class=\"dataframe\">\n",
       "  <thead>\n",
       "    <tr style=\"text-align: right;\">\n",
       "      <th>col_0</th>\n",
       "      <th>0</th>\n",
       "      <th>1</th>\n",
       "    </tr>\n",
       "    <tr>\n",
       "      <th>Direction_Up</th>\n",
       "      <th></th>\n",
       "      <th></th>\n",
       "    </tr>\n",
       "  </thead>\n",
       "  <tbody>\n",
       "    <tr>\n",
       "      <th>0</th>\n",
       "      <td>77</td>\n",
       "      <td>34</td>\n",
       "    </tr>\n",
       "    <tr>\n",
       "      <th>1</th>\n",
       "      <td>97</td>\n",
       "      <td>44</td>\n",
       "    </tr>\n",
       "  </tbody>\n",
       "</table>\n",
       "</div>"
      ],
      "text/plain": [
       "col_0          0   1\n",
       "Direction_Up        \n",
       "0             77  34\n",
       "1             97  44"
      ]
     },
     "execution_count": 19,
     "metadata": {},
     "output_type": "execute_result"
    }
   ],
   "source": [
    "pred_sm = pd.Series(data=logitsm_split_res.predict(X_test_sm))\n",
    "pred_sm = pred_sm.apply(lambda x : int(x > 0.5))\n",
    "pd.crosstab(y_test, pred_sm)"
   ]
  },
  {
   "cell_type": "markdown",
   "metadata": {},
   "source": [
    "The test error rate is $52\\%$, worse than random guessing. Oh, well... \n",
    "Before we try to do something about it, let's review the `sklearn` syntax:"
   ]
  },
  {
   "cell_type": "code",
   "execution_count": 20,
   "metadata": {},
   "outputs": [
    {
     "data": {
      "text/plain": [
       "0.48412698412698413"
      ]
     },
     "execution_count": 20,
     "metadata": {},
     "output_type": "execute_result"
    }
   ],
   "source": [
    "logitsk_split = LogisticRegression()\n",
    "logitsk_split.fit(X_train, y_train)\n",
    "logitsk_split.score(X_test, y_test)"
   ]
  },
  {
   "cell_type": "markdown",
   "metadata": {},
   "source": [
    "Easy peasy.\n",
    "\n",
    "To try and improve our model, we look back to our original regression: the variable `Lag1` had the smallest p-value; why not try to refit our model with just `Lag1` and `Lag2`?"
   ]
  },
  {
   "cell_type": "code",
   "execution_count": 21,
   "metadata": {},
   "outputs": [],
   "source": [
    "X_train2 = df_train[['Lag1', 'Lag2']]\n",
    "X_test2 = df_test[['Lag1', 'Lag2']]\n",
    "X_train_sm2 = sm.add_constant(X_train2)\n",
    "X_test_sm2 = sm.add_constant(X_test2)"
   ]
  },
  {
   "cell_type": "code",
   "execution_count": 22,
   "metadata": {},
   "outputs": [
    {
     "name": "stdout",
     "output_type": "stream",
     "text": [
      "Optimization terminated successfully.\n",
      "         Current function value: 2.875695\n",
      "         Iterations 3\n",
      "                           Logit Regression Results                           \n",
      "==============================================================================\n",
      "Dep. Variable:           Direction_Up   No. Observations:                  998\n",
      "Model:                          Logit   Df Residuals:                      995\n",
      "Method:                           MLE   Df Model:                            2\n",
      "Date:                Tue, 06 Oct 2020   Pseudo R-squ.:                     inf\n",
      "Time:                        13:58:14   Log-Likelihood:                -2869.9\n",
      "converged:                       True   LL-Null:                        0.0000\n",
      "Covariance Type:            nonrobust   LLR p-value:                     1.000\n",
      "==============================================================================\n",
      "                 coef    std err          z      P>|z|      [0.025      0.975]\n",
      "------------------------------------------------------------------------------\n",
      "const          0.0322      0.063      0.508      0.611      -0.092       0.156\n",
      "Lag1          -0.0556      0.052     -1.076      0.282      -0.157       0.046\n",
      "Lag2          -0.0445      0.052     -0.861      0.389      -0.146       0.057\n",
      "==============================================================================\n"
     ]
    },
    {
     "name": "stderr",
     "output_type": "stream",
     "text": [
      "/home/keroubino/.local/lib/python3.8/site-packages/statsmodels/base/model.py:547: HessianInversionWarning: Inverting hessian failed, no bse or cov_params available\n",
      "  warnings.warn('Inverting hessian failed, no bse or cov_params '\n",
      "/home/keroubino/.local/lib/python3.8/site-packages/statsmodels/base/model.py:547: HessianInversionWarning: Inverting hessian failed, no bse or cov_params available\n",
      "  warnings.warn('Inverting hessian failed, no bse or cov_params '\n",
      "/home/keroubino/.local/lib/python3.8/site-packages/statsmodels/discrete/discrete_model.py:3489: RuntimeWarning: divide by zero encountered in double_scalars\n",
      "  return 1 - self.llf/self.llnull\n"
     ]
    }
   ],
   "source": [
    "logitsm_split2 = sm.Logit(y_train, X_train_sm2)\n",
    "logitsm_split2_res = logitsm_split2.fit() \n",
    "print(logitsm_split2_res.summary())"
   ]
  },
  {
   "cell_type": "code",
   "execution_count": 23,
   "metadata": {},
   "outputs": [
    {
     "data": {
      "text/html": [
       "<div>\n",
       "<style scoped>\n",
       "    .dataframe tbody tr th:only-of-type {\n",
       "        vertical-align: middle;\n",
       "    }\n",
       "\n",
       "    .dataframe tbody tr th {\n",
       "        vertical-align: top;\n",
       "    }\n",
       "\n",
       "    .dataframe thead th {\n",
       "        text-align: right;\n",
       "    }\n",
       "</style>\n",
       "<table border=\"1\" class=\"dataframe\">\n",
       "  <thead>\n",
       "    <tr style=\"text-align: right;\">\n",
       "      <th>col_0</th>\n",
       "      <th>0</th>\n",
       "      <th>1</th>\n",
       "    </tr>\n",
       "    <tr>\n",
       "      <th>Direction_Up</th>\n",
       "      <th></th>\n",
       "      <th></th>\n",
       "    </tr>\n",
       "  </thead>\n",
       "  <tbody>\n",
       "    <tr>\n",
       "      <th>0</th>\n",
       "      <td>35</td>\n",
       "      <td>76</td>\n",
       "    </tr>\n",
       "    <tr>\n",
       "      <th>1</th>\n",
       "      <td>35</td>\n",
       "      <td>106</td>\n",
       "    </tr>\n",
       "  </tbody>\n",
       "</table>\n",
       "</div>"
      ],
      "text/plain": [
       "col_0          0    1\n",
       "Direction_Up         \n",
       "0             35   76\n",
       "1             35  106"
      ]
     },
     "execution_count": 23,
     "metadata": {},
     "output_type": "execute_result"
    }
   ],
   "source": [
    "pred_sm2 = pd.Series(data=logitsm_split2_res.predict(X_test_sm2))\n",
    "pred_sm2 = pred_sm2.apply(lambda x : int(x > 0.5))\n",
    "pd.crosstab(y_test, pred_sm2)"
   ]
  },
  {
   "cell_type": "markdown",
   "metadata": {},
   "source": [
    "This looks a little better: we have a successful prediction in $56\\%$ of the cases. That said, predicting the market would go up in all cases would also have resulted in a $56\\%$. Not so great.\n",
    "\n",
    "Let's wrap up with `sklearn`:"
   ]
  },
  {
   "cell_type": "code",
   "execution_count": 24,
   "metadata": {},
   "outputs": [
    {
     "data": {
      "text/plain": [
       "0.5595238095238095"
      ]
     },
     "execution_count": 24,
     "metadata": {},
     "output_type": "execute_result"
    }
   ],
   "source": [
    "logitsk_split2 = LogisticRegression()\n",
    "logitsk_split2.fit(X_train2, y_train)\n",
    "logitsk_split2.score(X_test2, y_test)"
   ]
  },
  {
   "cell_type": "markdown",
   "metadata": {},
   "source": [
    "To obtain the confusion matrix, we call `sklearn.metrics.confusion_matrix()`:"
   ]
  },
  {
   "cell_type": "code",
   "execution_count": 25,
   "metadata": {},
   "outputs": [
    {
     "data": {
      "text/plain": [
       "array([[ 35,  76],\n",
       "       [ 35, 106]])"
      ]
     },
     "execution_count": 25,
     "metadata": {},
     "output_type": "execute_result"
    }
   ],
   "source": [
    "y_pred2 = logitsk_split2.predict(X_test2)\n",
    "sklearn.metrics.confusion_matrix(y_test, y_pred2)"
   ]
  },
  {
   "cell_type": "markdown",
   "metadata": {},
   "source": [
    "So the accuracy rate in case of 'Up' prediction is"
   ]
  },
  {
   "cell_type": "code",
   "execution_count": 26,
   "metadata": {},
   "outputs": [
    {
     "data": {
      "text/plain": [
       "0.5824175824175825"
      ]
     },
     "execution_count": 26,
     "metadata": {},
     "output_type": "execute_result"
    }
   ],
   "source": [
    "106/(106+76)"
   ]
  },
  {
   "cell_type": "markdown",
   "metadata": {},
   "source": [
    "This is a small silver lining: when the model predicts the market will go up, it is correct in $58\\%$ of the cases. We could possibly build a trading strategy where we buy stocks on days the model predicts an increase in the market, and do nothing on other days. \n",
    "\n",
    "This small improvement, however, might just be due to random chance, so further investigation is needed..."
   ]
  },
  {
   "cell_type": "markdown",
   "metadata": {},
   "source": [
    "## **2. Linear discriminant analysis.**\n",
    "`statsmodels` does not support linear discriminant analysis as of yet so we'll do this bit with `sklearn` only; we'll use the same train/test split as above."
   ]
  },
  {
   "cell_type": "code",
   "execution_count": 27,
   "metadata": {},
   "outputs": [
    {
     "data": {
      "text/plain": [
       "LinearDiscriminantAnalysis()"
      ]
     },
     "execution_count": 27,
     "metadata": {},
     "output_type": "execute_result"
    }
   ],
   "source": [
    "from sklearn.discriminant_analysis import LinearDiscriminantAnalysis\n",
    "lda = LinearDiscriminantAnalysis()\n",
    "lda.fit(X_train2, y_train)"
   ]
  },
  {
   "cell_type": "markdown",
   "metadata": {},
   "source": [
    "We can access our estimates by calling the various attributes of our `lda` object:\n",
    " - `classes_` lists the different classes (here 0 for 'Down' and 1 for 'Up');\n",
    " - `priors_` the priors $P(Y = k)$ corresponding to each class $k$ (in the order listed in `classes_`;\n",
    " - `means_` the class-wise means of each predictor (eg. `lda.means_[0][1]` is the mean of `Lag2` (the second predictor) over all observations where $Y = 0$);"
   ]
  },
  {
   "cell_type": "code",
   "execution_count": 28,
   "metadata": {},
   "outputs": [
    {
     "name": "stdout",
     "output_type": "stream",
     "text": [
      "Classes: [0 1] \n",
      "Prior probabilities: [0.49198397 0.50801603] \n",
      "Group means:\n",
      " [[ 0.04279022  0.03389409]\n",
      " [-0.03954635 -0.03132544]]\n"
     ]
    }
   ],
   "source": [
    "print(\"Classes:\", lda.classes_,\n",
    "     \"\\nPrior probabilities:\", lda.priors_,\n",
    "     \"\\nGroup means:\\n\", lda.means_)"
   ]
  },
  {
   "cell_type": "markdown",
   "metadata": {},
   "source": [
    "We can predict what class an element will belong to with the `predict()` and `predict_proba()` methods:"
   ]
  },
  {
   "cell_type": "code",
   "execution_count": 39,
   "metadata": {},
   "outputs": [
    {
     "name": "stdout",
     "output_type": "stream",
     "text": [
      "Confusion matrix:\n",
      " [[ 35  76]\n",
      " [ 35 106]] \n",
      "Accuracy score: 0.5595238095238095\n"
     ]
    }
   ],
   "source": [
    "lda_pred = lda.predict(X_test2)\n",
    "print(\"Confusion matrix:\\n\", sklearn.metrics.confusion_matrix(y_test, lda_pred),\n",
    "      \"\\nAccuracy score:\", lda.score(X_test2, y_test))"
   ]
  },
  {
   "cell_type": "markdown",
   "metadata": {},
   "source": [
    "The performance is remarkably similar to that of the logistic regression model.\n",
    "\n",
    "There is no out-of-the-box option to adjust prediction threshold (eg. to predict the market will go down only if the probability of it is greater than 90%) but we can do it manually with eg.:"
   ]
  },
  {
   "cell_type": "code",
   "execution_count": 30,
   "metadata": {},
   "outputs": [
    {
     "data": {
      "text/plain": [
       "(array([], dtype=int64),)"
      ]
     },
     "execution_count": 30,
     "metadata": {},
     "output_type": "execute_result"
    }
   ],
   "source": [
    "np.where(lda.predict_proba(X_test2)[:,0] > .9)"
   ]
  },
  {
   "cell_type": "markdown",
   "metadata": {},
   "source": [
    "As a bonus, let's visualize our decision boundary."
   ]
  },
  {
   "cell_type": "code",
   "execution_count": 31,
   "metadata": {},
   "outputs": [
    {
     "data": {
      "image/png": "[encoded data removed]",
      "text/plain": [
       "<Figure size 576x576 with 1 Axes>"
      ]
     },
     "metadata": {},
     "output_type": "display_data"
    }
   ],
   "source": [
    "fig, ax = plt.subplots(figsize=(8,8))\n",
    "\n",
    "ax.grid(b=None)\n",
    "ax.set(facecolor='w', aspect=1)\n",
    "\n",
    "sns.scatterplot(x='Lag1', y='Lag2', data=df_test, hue='Direction_Up', s=75, zorder=2)\n",
    "\n",
    "\n",
    "x_min, x_max = plt.xlim()\n",
    "y_min, y_max = plt.ylim()\n",
    "\n",
    "nx, ny = 100, 100\n",
    "xx, yy = np.meshgrid(np.linspace(x_min, x_max, nx), np.linspace(y_min, y_max, ny))\n",
    "Z = np.c_[xx.ravel(), yy.ravel()]\n",
    "plt.scatter(Z[np.where(lda.predict(Z) == 1)][:, 0], Z[np.where(lda.predict(Z) == 1)][:, 1], \n",
    "            s=1, c='tab:blue', alpha=0.7, zorder=1)\n",
    "plt.scatter(Z[np.where(lda.predict(Z) == 0)][:, 0], Z[np.where(lda.predict(Z) == 0)][:, 1], \n",
    "            s=1, c='tab:orange', alpha=0.7, zorder=1);"
   ]
  },
  {
   "cell_type": "markdown",
   "metadata": {},
   "source": [
    "## **3. Quadratic discriminant analysis.**\n",
    "The syntax for this is very similar to that of LDA:"
   ]
  },
  {
   "cell_type": "code",
   "execution_count": 36,
   "metadata": {},
   "outputs": [
    {
     "name": "stdout",
     "output_type": "stream",
     "text": [
      "Classes: [0 1] \n",
      "Prior probabilities: [0.49198397 0.50801603] \n",
      "Group means:\n",
      " [[ 0.04279022  0.03389409]\n",
      " [-0.03954635 -0.03132544]]\n"
     ]
    }
   ],
   "source": [
    "from sklearn.discriminant_analysis import QuadraticDiscriminantAnalysis\n",
    "qda = QuadraticDiscriminantAnalysis()\n",
    "qda.fit(X_train2, y_train)\n",
    "\n",
    "print(\"Classes:\", qda.classes_,\n",
    "     \"\\nPrior probabilities:\", qda.priors_,\n",
    "     \"\\nGroup means:\\n\", qda.means_)"
   ]
  },
  {
   "cell_type": "code",
   "execution_count": 40,
   "metadata": {},
   "outputs": [
    {
     "name": "stdout",
     "output_type": "stream",
     "text": [
      "Confusion matrix:\n",
      " [[ 30  81]\n",
      " [ 20 121]] \n",
      "Accuracy score: 0.5992063492063492\n"
     ]
    }
   ],
   "source": [
    "qda_pred = qda.predict(X_test2)\n",
    "print(\"Confusion matrix:\\n\", sklearn.metrics.confusion_matrix(y_test, qda_pred),\n",
    "      \"\\nAccuracy score:\", qda.score(X_test2, y_test))"
   ]
  },
  {
   "cell_type": "markdown",
   "metadata": {},
   "source": [
    "That's a little bit better! We have almost a 60% accuracy score. On the plot, the decision boundary now appears curved."
   ]
  },
  {
   "cell_type": "code",
   "execution_count": 55,
   "metadata": {},
   "outputs": [
    {
     "data": {
      "image/png": "[encoded data removed]",
      "text/plain": [
       "<Figure size 576x576 with 1 Axes>"
      ]
     },
     "metadata": {},
     "output_type": "display_data"
    }
   ],
   "source": [
    "fig, ax = plt.subplots(figsize=(8,8))\n",
    "\n",
    "ax.grid(b=None)\n",
    "ax.set(facecolor='w', aspect=1)\n",
    "\n",
    "sns.scatterplot(x='Lag1', y='Lag2', data=df_test, hue='Direction_Up', s=75, zorder=2)\n",
    "\n",
    "\n",
    "x_min, x_max = plt.xlim()\n",
    "y_min, y_max = plt.ylim()\n",
    "\n",
    "nx, ny = 100, 100\n",
    "xx, yy = np.meshgrid(np.linspace(x_min, x_max, nx), np.linspace(y_min, y_max, ny))\n",
    "Z = np.c_[xx.ravel(), yy.ravel()]\n",
    "plt.scatter(Z[np.where(qda.predict(Z) == 1)][:, 0], Z[np.where(qda.predict(Z) == 1)][:, 1], \n",
    "            s=1, c='tab:blue', alpha=0.7, zorder=1)\n",
    "plt.scatter(Z[np.where(qda.predict(Z) == 0)][:, 0], Z[np.where(qda.predict(Z) == 0)][:, 1], \n",
    "            s=1, c='tab:orange', alpha=0.7, zorder=1);"
   ]
  },
  {
   "cell_type": "markdown",
   "metadata": {},
   "source": [
    "## **4. K-nearest neighbours.**\n",
    "We'll now see how a nonparametric model performs against parametric ones. Again, `statsmodels` does not support $K$-nearest neighbours, so we'll use `sklearn`."
   ]
  },
  {
   "cell_type": "code",
   "execution_count": 70,
   "metadata": {},
   "outputs": [
    {
     "name": "stdout",
     "output_type": "stream",
     "text": [
      "Confusion matrix:\n",
      " [[43 58]\n",
      " [68 83]] \n",
      "Score: 0.5\n"
     ]
    }
   ],
   "source": [
    "from sklearn.neighbors import KNeighborsClassifier\n",
    "knn1 = KNeighborsClassifier(n_neighbors=1)\n",
    "knn1.fit(X_train2, y_train)\n",
    "\n",
    "print(\"Confusion matrix:\\n\", sklearn.metrics.confusion_matrix(knn1.predict(X_test2), y_test),\n",
    "     \"\\nScore:\", knn1.score(X_test2, y_test))"
   ]
  },
  {
   "cell_type": "markdown",
   "metadata": {},
   "source": [
    "That's... not great. Let's try to increase $k$:"
   ]
  },
  {
   "cell_type": "code",
   "execution_count": 73,
   "metadata": {},
   "outputs": [
    {
     "name": "stdout",
     "output_type": "stream",
     "text": [
      "Confusion matrix:\n",
      " [[48 55]\n",
      " [63 86]] \n",
      "Score: 0.5317460317460317\n"
     ]
    }
   ],
   "source": [
    "knn3 = KNeighborsClassifier(n_neighbors=3)\n",
    "knn3.fit(X_train2, y_train)\n",
    "\n",
    "print(\"Confusion matrix:\\n\", sklearn.metrics.confusion_matrix(knn3.predict(X_test2), y_test),\n",
    "     \"\\nScore:\", knn3.score(X_test2, y_test))"
   ]
  },
  {
   "cell_type": "markdown",
   "metadata": {},
   "source": [
    "Slightly better. Can we improve this further?"
   ]
  },
  {
   "cell_type": "code",
   "execution_count": 76,
   "metadata": {},
   "outputs": [
    {
     "name": "stdout",
     "output_type": "stream",
     "text": [
      "k = 1 score: 0.5\n",
      "k = 2 score: 0.48412698412698413\n",
      "k = 3 score: 0.5317460317460317\n",
      "k = 4 score: 0.5158730158730159\n",
      "k = 5 score: 0.48412698412698413\n",
      "k = 6 score: 0.49603174603174605\n",
      "k = 7 score: 0.4642857142857143\n",
      "k = 8 score: 0.48412698412698413\n",
      "k = 9 score: 0.49603174603174605\n",
      "k = 10 score: 0.5198412698412699\n",
      "k = 11 score: 0.5317460317460317\n",
      "k = 12 score: 0.5158730158730159\n",
      "k = 13 score: 0.503968253968254\n",
      "k = 14 score: 0.45634920634920634\n",
      "k = 15 score: 0.48412698412698413\n"
     ]
    }
   ],
   "source": [
    "for k in range(1, 16):\n",
    "    knn = KNeighborsClassifier(n_neighbors=k)\n",
    "    knn.fit(X_train2, y_train)\n",
    "\n",
    "    print(\"k =\", k, \"score:\", knn.score(X_test2, y_test))"
   ]
  },
  {
   "cell_type": "markdown",
   "metadata": {},
   "source": [
    "Looks like we can't. For comparison, here are the decision boundary visualizations (in somewhat low definition) for $k=1, 5, 10$ and $15$."
   ]
  },
  {
   "cell_type": "code",
   "execution_count": 91,
   "metadata": {},
   "outputs": [
    {
     "data": {
      "image/png": "[encoded data removed]",
      "text/plain": [
       "<Figure size 864x864 with 4 Axes>"
      ]
     },
     "metadata": {},
     "output_type": "display_data"
    }
   ],
   "source": [
    "fig, axes = plt.subplots(nrows=2, ncols=2, figsize=(12,12))\n",
    "\n",
    "k = [1, 5, 10, 15]\n",
    "i = 0\n",
    "\n",
    "for ax in axes.flat:\n",
    "    ax.grid(b=None)\n",
    "    ax.set(facecolor='w', aspect=1, title=f\"k = {k[i]}\")\n",
    "    \n",
    "    plt.sca(ax)\n",
    "\n",
    "    x_min, x_max = plt.xlim()\n",
    "    y_min, y_max = plt.ylim()\n",
    "\n",
    "    nx, ny = 50, 50\n",
    "    xx, yy = np.meshgrid(np.linspace(x_min, x_max, nx), np.linspace(y_min, y_max, ny))\n",
    "    Z = np.c_[xx.ravel(), yy.ravel()]\n",
    "    \n",
    "    knn.set_params(n_neighbors=k[i])\n",
    "    \n",
    "    plt.scatter(Z[np.where(knn.predict(Z) == 1)][:, 0], Z[np.where(knn.predict(Z) == 1)][:, 1], \n",
    "            s=5, marker='o', c='tab:blue', zorder=1)\n",
    "    plt.scatter(Z[np.where(knn.predict(Z) == 0)][:, 0], Z[np.where(knn.predict(Z) == 0)][:, 1], \n",
    "            s=5, marker=\"o\", c='tab:orange', zorder=1);\n",
    "    \n",
    "    i += 1"
   ]
  },
  {
   "cell_type": "markdown",
   "metadata": {},
   "source": [
    "The decision boundary appears to smoothen somewhat as $k$ increases, with fewer \"pockets\" of color and larger overall areas."
   ]
  },
  {
   "cell_type": "markdown",
   "metadata": {},
   "source": [
    "## **5. Application: Caravan Insurance Data.**\n",
    "We wrap up with the `Caravan` dataset, available from the ISLR package and provided here as a .csv file. This dataset consists of 85 predictors measuring demographic charactersitics for 5,822 individuals.\n",
    "\n",
    "Our dependent variable is `Purchase`, indicating whether a given individual purchases a caravan insurance policy. Only 6% of the people in the dataset purchased one."
   ]
  },
  {
   "cell_type": "code",
   "execution_count": 110,
   "metadata": {},
   "outputs": [
    {
     "data": {
      "text/plain": [
       "count     5822\n",
       "unique       2\n",
       "top         No\n",
       "freq      5474\n",
       "Name: Purchase, dtype: object"
      ]
     },
     "execution_count": 110,
     "metadata": {},
     "output_type": "execute_result"
    }
   ],
   "source": [
    "caravan = pd.read_csv(\"data/Caravan.csv\")\n",
    "caravan['Purchase'].describe()"
   ]
  },
  {
   "cell_type": "markdown",
   "metadata": {},
   "source": [
    "The main issue with KNN is that of scale: since we look at the points _nearest_ to our obesrvation to perform a classification, we need to have a notion of distance that is robust to different scales and units (eg. a difference of USD $1000$ in annual salary is small, but a difference of $50$ years in age is big).\n",
    "\n",
    "The best way to insure we are judging things on the same scale is to _standardize_ our data, by subtracting the mean from every feature (hence all features have a mean of 0) and dividing each feature by its standard deviation (so all features have a standard deviation of 1).\n",
    "\n",
    "Note: This is not the only possible way to scale our data. See [here](https://sklearn.org/auto_examples/preprocessing/plot_all_scaling.html) for a comparison of scalers `sklearn` has to offer and their uses.\n",
    "\n",
    "First we look at the mean and standard deviation of (some of) the features in our dataset:"
   ]
  },
  {
   "cell_type": "code",
   "execution_count": 113,
   "metadata": {},
   "outputs": [
    {
     "name": "stdout",
     "output_type": "stream",
     "text": [
      "Mean:\n",
      " MOSTYPE     24.253349\n",
      "MAANTHUI     1.110615\n",
      "MGEMOMV      2.678805\n",
      "MGEMLEEF     2.991240\n",
      "MOSHOOFD     5.773617\n",
      "              ...    \n",
      "AZEILPL      0.000515\n",
      "APLEZIER     0.006012\n",
      "AFIETS       0.031776\n",
      "AINBOED      0.007901\n",
      "ABYSTAND     0.014256\n",
      "Length: 85, dtype: float64 \n",
      "\n",
      "Standard deviation:\n",
      " MOSTYPE     12.846706\n",
      "MAANTHUI     0.405842\n",
      "MGEMOMV      0.789835\n",
      "MGEMLEEF     0.814589\n",
      "MOSHOOFD     2.856760\n",
      "              ...    \n",
      "AZEILPL      0.022696\n",
      "APLEZIER     0.081632\n",
      "AFIETS       0.210986\n",
      "AINBOED      0.090463\n",
      "ABYSTAND     0.119996\n",
      "Length: 85, dtype: float64\n"
     ]
    }
   ],
   "source": [
    "X = caravan.drop(columns='Purchase')\n",
    "y = caravan['Purchase']\n",
    "\n",
    "print(\"Mean:\\n\", X.mean(),\n",
    "     \"\\n\\nStandard deviation:\\n\", X.std())"
   ]
  },
  {
   "cell_type": "markdown",
   "metadata": {},
   "source": [
    "To scale our data, we use the `StandardScaler` class from `sklearn.preprocessing`; we fit the scaler to our predictor dataframe, then apply the `transform()` method to it. "
   ]
  },
  {
   "cell_type": "code",
   "execution_count": 123,
   "metadata": {},
   "outputs": [
    {
     "name": "stdout",
     "output_type": "stream",
     "text": [
      "Mean:\n",
      " MOSTYPE    -1.015639e-16\n",
      "MAANTHUI   -5.891695e-16\n",
      "MGEMOMV     5.059123e-17\n",
      "MGEMLEEF    2.968433e-16\n",
      "MOSHOOFD    3.783378e-17\n",
      "                ...     \n",
      "AZEILPL    -1.518214e-16\n",
      "APLEZIER   -9.635599e-16\n",
      "AFIETS     -3.440795e-16\n",
      "AINBOED     6.019413e-16\n",
      "ABYSTAND   -1.696465e-16\n",
      "Length: 85, dtype: float64 \n",
      "\n",
      "Standard deviation:\n",
      " MOSTYPE     1.000086\n",
      "MAANTHUI    1.000086\n",
      "MGEMOMV     1.000086\n",
      "MGEMLEEF    1.000086\n",
      "MOSHOOFD    1.000086\n",
      "              ...   \n",
      "AZEILPL     1.000086\n",
      "APLEZIER    1.000086\n",
      "AFIETS      1.000086\n",
      "AINBOED     1.000086\n",
      "ABYSTAND    1.000086\n",
      "Length: 85, dtype: float64\n"
     ]
    }
   ],
   "source": [
    "from sklearn.preprocessing import StandardScaler\n",
    "scaler = StandardScaler()\n",
    "scaler.fit(caravan.drop(columns='Purchase'))\n",
    "X_scaled = pd.DataFrame(data=scaler.transform(X), columns=X.columns)\n",
    "print(\"Mean:\\n\", X_scaled.mean(),\n",
    "     \"\\n\\nStandard deviation:\\n\", X_scaled.std())"
   ]
  },
  {
   "cell_type": "markdown",
   "metadata": {},
   "source": [
    "`scaler.transform()` returns an array, so if we want to keep our column names we can make it into a dataframe. Note that the mean and standard deviation is not exactly equal to 1, but for the purpose of predicting things, that's fine.\n",
    "\n",
    "We now split our observations: for the test, we'll take the first 1000 rows, and the training set will be the rest. We then fit a KNN model (with $K = 1$) on our data and evaluate the performance on the test set."
   ]
  },
  {
   "cell_type": "code",
   "execution_count": 128,
   "metadata": {},
   "outputs": [
    {
     "data": {
      "text/plain": [
       "0.882"
      ]
     },
     "execution_count": 128,
     "metadata": {},
     "output_type": "execute_result"
    }
   ],
   "source": [
    "X_train = X_scaled.iloc[1000:]\n",
    "X_test = X_scaled.iloc[:1000]\n",
    "y_train = y.iloc[1000:]\n",
    "y_test = y.iloc[:1000]\n",
    "\n",
    "knn_car = KNeighborsClassifier(n_neighbors=1)\n",
    "knn_car.fit(X_train, y_train)\n",
    "knn_car.score(X_test, y_test)"
   ]
  },
  {
   "cell_type": "markdown",
   "metadata": {},
   "source": [
    "So our error rate is just under 12%. Not bad, eh? Except..."
   ]
  },
  {
   "cell_type": "code",
   "execution_count": 149,
   "metadata": {},
   "outputs": [
    {
     "data": {
      "text/plain": [
       "0.059"
      ]
     },
     "execution_count": 149,
     "metadata": {},
     "output_type": "execute_result"
    }
   ],
   "source": [
    "y_test.value_counts()['Yes'] / y_test.size"
   ]
  },
  {
   "cell_type": "markdown",
   "metadata": {},
   "source": [
    "...only 6% of purchases are a 'Yes', so predicting 'No' for every observation would result in a 6% error rate.\n",
    "\n",
    "That said, maybe the total error rate is not the right metric we should use; ultimately, if our plan is to sell insurance to clients, we want to target the customers that are more likely to buy our product. So a better question to ask is, when our model preditcs someone will purchase insurance, how often is that prediction true?\n",
    "\n",
    "Let's display our confusion matrix:"
   ]
  },
  {
   "cell_type": "code",
   "execution_count": 150,
   "metadata": {},
   "outputs": [
    {
     "data": {
      "text/plain": [
       "array([[873,  50],\n",
       "       [ 68,   9]])"
      ]
     },
     "execution_count": 150,
     "metadata": {},
     "output_type": "execute_result"
    }
   ],
   "source": [
    "sklearn.metrics.confusion_matrix(knn_car.predict(X_test), y_test)"
   ]
  },
  {
   "cell_type": "markdown",
   "metadata": {},
   "source": [
    "Among the 77 customers KNN predicts will buy insurance (second row), 9 really do (bottom right). So we are right in $11.7\\%$ of cases, which is far better than random guessing (which would be right in at most $6\\%$ of cases).\n",
    "\n",
    "Let's see whether we can improve our rate."
   ]
  },
  {
   "cell_type": "code",
   "execution_count": 151,
   "metadata": {},
   "outputs": [
    {
     "data": {
      "text/plain": [
       "array([[921,  54],\n",
       "       [ 20,   5]])"
      ]
     },
     "execution_count": 151,
     "metadata": {},
     "output_type": "execute_result"
    }
   ],
   "source": [
    "knn_car.set_params(n_neighbors=3)\n",
    "sklearn.metrics.confusion_matrix(knn_car.predict(X_test), y_test)"
   ]
  },
  {
   "cell_type": "markdown",
   "metadata": {},
   "source": [
    "With $K = 3$, we have a true negative rate of $20\\%$."
   ]
  },
  {
   "cell_type": "code",
   "execution_count": 183,
   "metadata": {},
   "outputs": [
    {
     "data": {
      "text/plain": [
       "array([[930,  55],\n",
       "       [ 11,   4]])"
      ]
     },
     "execution_count": 183,
     "metadata": {},
     "output_type": "execute_result"
    }
   ],
   "source": [
    "knn_car.set_params(n_neighbors=5)\n",
    "sklearn.metrics.confusion_matrix(knn_car.predict(X_test), y_test)"
   ]
  },
  {
   "cell_type": "markdown",
   "metadata": {},
   "source": [
    "With $K = 5$ we reach $27\\%$. There is not much point in increasing $K$ further, however: once our number of neighbors becomes large enough, the KNN algorithm will automatically pick up more \"No\"'s than \"Yes\"'s, since these are overwhelmingly present in the data.\n",
    "\n",
    "To conclude, we compare KNN with logistic regression. Note: the fit with default parameters was throwing a \"max iterations reached\" warning so I increased it to 125 (default is 100) so it converges."
   ]
  },
  {
   "cell_type": "code",
   "execution_count": 184,
   "metadata": {},
   "outputs": [
    {
     "data": {
      "text/plain": [
       "array([[934,  59],\n",
       "       [  7,   0]])"
      ]
     },
     "execution_count": 184,
     "metadata": {},
     "output_type": "execute_result"
    }
   ],
   "source": [
    "logit_car = LogisticRegression(max_iter=125)\n",
    "logit_car.fit(X_train, y_train)\n",
    "sklearn.metrics.confusion_matrix(logit_car.predict(X_test), y_test)"
   ]
  },
  {
   "cell_type": "markdown",
   "metadata": {},
   "source": [
    "So our model does not pick up any true \"Yes\". We can try to play with the probability threshold a bit; what if we make it declare a customer as a \"yes\" if the probability is $25\\%$ or above?"
   ]
  },
  {
   "cell_type": "code",
   "execution_count": 195,
   "metadata": {},
   "outputs": [
    {
     "name": "stdout",
     "output_type": "stream",
     "text": [
      "True positives: 11 \n",
      "Total predicted: 35 \n",
      "Accuracy: 0.3142857142857143\n"
     ]
    }
   ],
   "source": [
    "true_pos = np.intersect1d(np.where(logit_car.predict_proba(X_test)[:,1] > 0.25)[0], \n",
    "               np.where(y_test == \"Yes\")[0]).size\n",
    "total_pos = np.where(logit_car.predict_proba(X_test)[:,1] > 0.25)[0].size\n",
    "print(\"True positives:\", true_pos,\n",
    "     \"\\nTotal predicted:\", total_pos,\n",
    "     \"\\nAccuracy:\", true_pos/total_pos)"
   ]
  },
  {
   "cell_type": "markdown",
   "metadata": {},
   "source": [
    "This time we get an accuracy of $31\\%$. Not bad."
   ]
  },
  {
   "cell_type": "code",
   "execution_count": null,
   "metadata": {},
   "outputs": [],
   "source": []
  }
 ],
 "metadata": {
  "kernelspec": {
   "display_name": "Python 3",
   "language": "python",
   "name": "python3"
  },
  "language_info": {
   "codemirror_mode": {
    "name": "ipython",
    "version": 3
   },
   "file_extension": ".py",
   "mimetype": "text/x-python",
   "name": "python",
   "nbconvert_exporter": "python",
   "pygments_lexer": "ipython3",
   "version": "3.8.2"
  }
 },
 "nbformat": 4,
 "nbformat_minor": 4
}
