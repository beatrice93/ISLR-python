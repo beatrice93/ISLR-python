{
 "cells": [
  {
   "cell_type": "markdown",
   "metadata": {},
   "source": [
    "# **LAB: CROSS-VALIDATION AND THE BOOTSTRAP**\n",
    "Packages used:\n",
    " - `statsmodels` is meant for \"conducting statistical tests, and statistical data exploration\" it is technically more similar to R in its function, syntax and general use;\n",
    " - `sklearn` is meant for prediction; knowledge of scikit-learn is a very valuable skill nowadays, so I thought it best to include it;\n",
    " - and of course, `pandas` for data wrangling and organizing, as well as `matplotlib` and `seaborn` for pictures.\n"
   ]
  },
  {
   "cell_type": "code",
   "execution_count": 135,
   "metadata": {},
   "outputs": [],
   "source": [
    "%matplotlib inline\n",
    "import matplotlib.pyplot as plt\n",
    "import numpy as np\n",
    "import pandas as pd\n",
    "import sklearn\n",
    "import seaborn as sns\n",
    "import statsmodels.api as sm\n",
    "from scipy import stats\n",
    "\n",
    "\n",
    "sns.set_theme(style=\"darkgrid\")"
   ]
  },
  {
   "cell_type": "markdown",
   "metadata": {},
   "source": [
    "---\n",
    "## **1. The Validation Set approach**\n",
    "\n",
    "We'll use the `Auto` dataset which is part of the `ISLR` package and available as a .csv in the data folder."
   ]
  },
  {
   "cell_type": "code",
   "execution_count": 15,
   "metadata": {},
   "outputs": [
    {
     "data": {
      "text/html": [
       "<div>\n",
       "<style scoped>\n",
       "    .dataframe tbody tr th:only-of-type {\n",
       "        vertical-align: middle;\n",
       "    }\n",
       "\n",
       "    .dataframe tbody tr th {\n",
       "        vertical-align: top;\n",
       "    }\n",
       "\n",
       "    .dataframe thead th {\n",
       "        text-align: right;\n",
       "    }\n",
       "</style>\n",
       "<table border=\"1\" class=\"dataframe\">\n",
       "  <thead>\n",
       "    <tr style=\"text-align: right;\">\n",
       "      <th></th>\n",
       "      <th>mpg</th>\n",
       "      <th>cylinders</th>\n",
       "      <th>displacement</th>\n",
       "      <th>horsepower</th>\n",
       "      <th>weight</th>\n",
       "      <th>acceleration</th>\n",
       "      <th>year</th>\n",
       "      <th>origin</th>\n",
       "      <th>name</th>\n",
       "    </tr>\n",
       "  </thead>\n",
       "  <tbody>\n",
       "    <tr>\n",
       "      <th>0</th>\n",
       "      <td>18.0</td>\n",
       "      <td>8</td>\n",
       "      <td>307.0</td>\n",
       "      <td>130</td>\n",
       "      <td>3504</td>\n",
       "      <td>12.0</td>\n",
       "      <td>70</td>\n",
       "      <td>1</td>\n",
       "      <td>chevrolet chevelle malibu</td>\n",
       "    </tr>\n",
       "    <tr>\n",
       "      <th>1</th>\n",
       "      <td>15.0</td>\n",
       "      <td>8</td>\n",
       "      <td>350.0</td>\n",
       "      <td>165</td>\n",
       "      <td>3693</td>\n",
       "      <td>11.5</td>\n",
       "      <td>70</td>\n",
       "      <td>1</td>\n",
       "      <td>buick skylark 320</td>\n",
       "    </tr>\n",
       "    <tr>\n",
       "      <th>2</th>\n",
       "      <td>18.0</td>\n",
       "      <td>8</td>\n",
       "      <td>318.0</td>\n",
       "      <td>150</td>\n",
       "      <td>3436</td>\n",
       "      <td>11.0</td>\n",
       "      <td>70</td>\n",
       "      <td>1</td>\n",
       "      <td>plymouth satellite</td>\n",
       "    </tr>\n",
       "    <tr>\n",
       "      <th>3</th>\n",
       "      <td>16.0</td>\n",
       "      <td>8</td>\n",
       "      <td>304.0</td>\n",
       "      <td>150</td>\n",
       "      <td>3433</td>\n",
       "      <td>12.0</td>\n",
       "      <td>70</td>\n",
       "      <td>1</td>\n",
       "      <td>amc rebel sst</td>\n",
       "    </tr>\n",
       "    <tr>\n",
       "      <th>4</th>\n",
       "      <td>17.0</td>\n",
       "      <td>8</td>\n",
       "      <td>302.0</td>\n",
       "      <td>140</td>\n",
       "      <td>3449</td>\n",
       "      <td>10.5</td>\n",
       "      <td>70</td>\n",
       "      <td>1</td>\n",
       "      <td>ford torino</td>\n",
       "    </tr>\n",
       "    <tr>\n",
       "      <th>...</th>\n",
       "      <td>...</td>\n",
       "      <td>...</td>\n",
       "      <td>...</td>\n",
       "      <td>...</td>\n",
       "      <td>...</td>\n",
       "      <td>...</td>\n",
       "      <td>...</td>\n",
       "      <td>...</td>\n",
       "      <td>...</td>\n",
       "    </tr>\n",
       "    <tr>\n",
       "      <th>387</th>\n",
       "      <td>27.0</td>\n",
       "      <td>4</td>\n",
       "      <td>140.0</td>\n",
       "      <td>86</td>\n",
       "      <td>2790</td>\n",
       "      <td>15.6</td>\n",
       "      <td>82</td>\n",
       "      <td>1</td>\n",
       "      <td>ford mustang gl</td>\n",
       "    </tr>\n",
       "    <tr>\n",
       "      <th>388</th>\n",
       "      <td>44.0</td>\n",
       "      <td>4</td>\n",
       "      <td>97.0</td>\n",
       "      <td>52</td>\n",
       "      <td>2130</td>\n",
       "      <td>24.6</td>\n",
       "      <td>82</td>\n",
       "      <td>2</td>\n",
       "      <td>vw pickup</td>\n",
       "    </tr>\n",
       "    <tr>\n",
       "      <th>389</th>\n",
       "      <td>32.0</td>\n",
       "      <td>4</td>\n",
       "      <td>135.0</td>\n",
       "      <td>84</td>\n",
       "      <td>2295</td>\n",
       "      <td>11.6</td>\n",
       "      <td>82</td>\n",
       "      <td>1</td>\n",
       "      <td>dodge rampage</td>\n",
       "    </tr>\n",
       "    <tr>\n",
       "      <th>390</th>\n",
       "      <td>28.0</td>\n",
       "      <td>4</td>\n",
       "      <td>120.0</td>\n",
       "      <td>79</td>\n",
       "      <td>2625</td>\n",
       "      <td>18.6</td>\n",
       "      <td>82</td>\n",
       "      <td>1</td>\n",
       "      <td>ford ranger</td>\n",
       "    </tr>\n",
       "    <tr>\n",
       "      <th>391</th>\n",
       "      <td>31.0</td>\n",
       "      <td>4</td>\n",
       "      <td>119.0</td>\n",
       "      <td>82</td>\n",
       "      <td>2720</td>\n",
       "      <td>19.4</td>\n",
       "      <td>82</td>\n",
       "      <td>1</td>\n",
       "      <td>chevy s-10</td>\n",
       "    </tr>\n",
       "  </tbody>\n",
       "</table>\n",
       "<p>392 rows × 9 columns</p>\n",
       "</div>"
      ],
      "text/plain": [
       "      mpg  cylinders  displacement  horsepower  weight  acceleration  year  \\\n",
       "0    18.0          8         307.0         130    3504          12.0    70   \n",
       "1    15.0          8         350.0         165    3693          11.5    70   \n",
       "2    18.0          8         318.0         150    3436          11.0    70   \n",
       "3    16.0          8         304.0         150    3433          12.0    70   \n",
       "4    17.0          8         302.0         140    3449          10.5    70   \n",
       "..    ...        ...           ...         ...     ...           ...   ...   \n",
       "387  27.0          4         140.0          86    2790          15.6    82   \n",
       "388  44.0          4          97.0          52    2130          24.6    82   \n",
       "389  32.0          4         135.0          84    2295          11.6    82   \n",
       "390  28.0          4         120.0          79    2625          18.6    82   \n",
       "391  31.0          4         119.0          82    2720          19.4    82   \n",
       "\n",
       "     origin                       name  \n",
       "0         1  chevrolet chevelle malibu  \n",
       "1         1          buick skylark 320  \n",
       "2         1         plymouth satellite  \n",
       "3         1              amc rebel sst  \n",
       "4         1                ford torino  \n",
       "..      ...                        ...  \n",
       "387       1            ford mustang gl  \n",
       "388       2                  vw pickup  \n",
       "389       1              dodge rampage  \n",
       "390       1                ford ranger  \n",
       "391       1                 chevy s-10  \n",
       "\n",
       "[392 rows x 9 columns]"
      ]
     },
     "execution_count": 15,
     "metadata": {},
     "output_type": "execute_result"
    }
   ],
   "source": [
    "auto = pd.read_csv('data/Auto.csv')\n",
    "auto"
   ]
  },
  {
   "cell_type": "markdown",
   "metadata": {},
   "source": [
    "Optional: we are going to predict `mpg` as a function of `horsepower`. Here's the graph:"
   ]
  },
  {
   "cell_type": "code",
   "execution_count": 84,
   "metadata": {},
   "outputs": [
    {
     "data": {
      "image/png": "[encoded data removed]",
      "text/plain": [
       "<Figure size 432x288 with 1 Axes>"
      ]
     },
     "metadata": {},
     "output_type": "display_data"
    }
   ],
   "source": [
    "sns.regplot(x='horsepower', y='mpg', data=auto, line_kws={'color':'orange'});"
   ]
  },
  {
   "cell_type": "markdown",
   "metadata": {},
   "source": [
    "We split the dataset into a training and a testing subsets using `sklearn`'s `train_test_split` function; the parameter `train_size` can be an integer (number of observations) or a number between 0 and 1 (fraction of observations in the training set). By default, the testing set is the complement of the training set, but it can be set to be smaller than that with `test_size`. \n",
    "\n",
    "*Note:* We also fix a `random_state` for reproducibility, because `train_test_split` shuffles observations before splitting the set. If you're following along with ISLR, you'll notice we'll obtain different results; that's because of the shuffling."
   ]
  },
  {
   "cell_type": "code",
   "execution_count": 39,
   "metadata": {},
   "outputs": [
    {
     "data": {
      "text/plain": [
       "(196, 9)"
      ]
     },
     "execution_count": 39,
     "metadata": {},
     "output_type": "execute_result"
    }
   ],
   "source": [
    "from sklearn.model_selection import train_test_split\n",
    "X_train, X_test = train_test_split(auto, train_size=196, random_state=1)\n",
    "\n",
    "X_train.shape"
   ]
  },
  {
   "cell_type": "markdown",
   "metadata": {},
   "source": [
    "Let's fit a linear regression model to predict `mpg` as a function of `horsepower`; note the double brackets around `horsepower`: this way we get a dataframe of shape (196,1) instead of a series, as `sklearn` only accepts 2D arrays as input for X."
   ]
  },
  {
   "cell_type": "code",
   "execution_count": 40,
   "metadata": {},
   "outputs": [
    {
     "data": {
      "text/plain": [
       "24.80212062059356"
      ]
     },
     "execution_count": 40,
     "metadata": {},
     "output_type": "execute_result"
    }
   ],
   "source": [
    "from sklearn.linear_model import LinearRegression\n",
    "linreg = LinearRegression()\n",
    "linreg.fit(X_train[['horsepower']], X_train['mpg'])\n",
    "\n",
    "y_pred = linreg.predict(X_test[['horsepower']])\n",
    "sklearn.metrics.mean_squared_error(X_test['mpg'], y_pred)"
   ]
  },
  {
   "cell_type": "markdown",
   "metadata": {},
   "source": [
    "If we want to fit a polynomial regression instead, we can use the `polynomial_features` from the `preprocessing` module:"
   ]
  },
  {
   "cell_type": "code",
   "execution_count": 52,
   "metadata": {},
   "outputs": [],
   "source": [
    "poly = sklearn.preprocessing.PolynomialFeatures(3)\n",
    "X_poly = poly.fit_transform(auto[['horsepower']])\n",
    "\n",
    "Xp_train, Xp_test = train_test_split(X_poly, train_size=196, random_state=1)"
   ]
  },
  {
   "cell_type": "markdown",
   "metadata": {},
   "source": [
    "This returns an array with the values of `horsepower`$^p$ for $p = 0, 1, 2 ,3$. For quadratic features we use the first 3 columns and for cubic features, all columns."
   ]
  },
  {
   "cell_type": "code",
   "execution_count": 67,
   "metadata": {},
   "outputs": [
    {
     "data": {
      "text/plain": [
       "18.848292603275244"
      ]
     },
     "execution_count": 67,
     "metadata": {},
     "output_type": "execute_result"
    }
   ],
   "source": [
    "quadreg = LinearRegression()\n",
    "quadreg.fit(Xp_train[:,:3], X_train['mpg'])\n",
    "\n",
    "yq_pred = quadreg.predict(Xp_test[:,:3])\n",
    "sklearn.metrics.mean_squared_error(X_test['mpg'], yq_pred)"
   ]
  },
  {
   "cell_type": "code",
   "execution_count": 68,
   "metadata": {},
   "outputs": [
    {
     "data": {
      "text/plain": [
       "18.80511135868474"
      ]
     },
     "execution_count": 68,
     "metadata": {},
     "output_type": "execute_result"
    }
   ],
   "source": [
    "cubicreg = LinearRegression()\n",
    "cubicreg.fit(Xp_train, X_train['mpg'])\n",
    "\n",
    "yc_pred = cubicreg.predict(Xp_test)\n",
    "sklearn.metrics.mean_squared_error(X_test['mpg'], yc_pred)"
   ]
  },
  {
   "cell_type": "markdown",
   "metadata": {},
   "source": [
    "It seems that a quadratic regression does fit the data better, but there is little improvement to be gained by adding a third degree to our polynomial.\n",
    "\n",
    "_Exercise: change the value of `random_state` and compare the results with the current ones. Is this consistent with the above observation?_"
   ]
  },
  {
   "cell_type": "markdown",
   "metadata": {},
   "source": [
    "---\n",
    "## **2. Leave-One-Out cross-validation**\n",
    "We use `sklearn`'s `cross_val_score` function. The parameter `scoring` allows us to specify our metric. All of `sklearn`'s scorers follow the convention that \"higher is better\", so metrics like the MSE are computed as negative values. We pass the number of our folds (remember that LOOCV is a special case of $k$-fold CV with $k = n$) with the keyword `cv`. \n",
    "\n",
    "`cross_val_score` returns an array with the score for each train/test split. If we want the average MSE for LOOCV, we sum all these values and divide the total by our number of observations."
   ]
  },
  {
   "cell_type": "code",
   "execution_count": 176,
   "metadata": {},
   "outputs": [
    {
     "data": {
      "text/plain": [
       "-24.231513517929226"
      ]
     },
     "execution_count": 176,
     "metadata": {},
     "output_type": "execute_result"
    }
   ],
   "source": [
    "from sklearn.model_selection import cross_val_score\n",
    "X = auto[['horsepower']]\n",
    "y = auto['mpg']\n",
    "\n",
    "linreg = LinearRegression()\n",
    "score = cross_val_score(linreg, X, y, scoring='neg_mean_squared_error', cv=y.size)\n",
    "np.mean(score)"
   ]
  },
  {
   "cell_type": "markdown",
   "metadata": {},
   "source": [
    "To compare our different polynomial fits, we can repeat the method for a few different degrees, as we did above. The following cell might take a minute to run if your computer is slow."
   ]
  },
  {
   "cell_type": "code",
   "execution_count": 101,
   "metadata": {},
   "outputs": [
    {
     "name": "stdout",
     "output_type": "stream",
     "text": [
      "[-24.231513517929226, -19.248213124489745, -19.33498406411498, -19.424430307079398, -19.033198669299846]\n"
     ]
    }
   ],
   "source": [
    "scores = []\n",
    "poly = sklearn.preprocessing.PolynomialFeatures(5)\n",
    "X_p = poly.fit_transform(X)\n",
    "\n",
    "for deg in range(2,7):\n",
    "    linreg = LinearRegression()\n",
    "    score = cross_val_score(linreg, X_p[:,:deg], y, scoring='neg_mean_squared_error', cv=y.size)\n",
    "    scores.append(np.mean(score))\n",
    "    \n",
    "print(scores)"
   ]
  },
  {
   "cell_type": "markdown",
   "metadata": {},
   "source": [
    "So we have a substantial improvement for the quadratic model but no further improvements with higher degrees."
   ]
  },
  {
   "cell_type": "markdown",
   "metadata": {},
   "source": [
    "---\n",
    "## **3. k-fold cross-validation**\n",
    "By default, `cross_val_score` does not shuffle the data when doing a train/test split. \n",
    "\n",
    "To run a k-fold cross-validation, we initialize an instance of the `KFold` class with the parameters 10 (number of folds), as well as a random state, and `shuffle=True`. We then run our cross-validation:"
   ]
  },
  {
   "cell_type": "code",
   "execution_count": 107,
   "metadata": {},
   "outputs": [
    {
     "name": "stdout",
     "output_type": "stream",
     "text": [
      "[-24.30979081663877, -19.290145435572196, -19.410597308907235, -19.506552366573057, -19.0515940252805, -19.008785042967027, -19.133571795627866, -19.24996809310353, -19.205985435373368, -19.077876117444998]\n"
     ]
    }
   ],
   "source": [
    "kfold_scores = []\n",
    "poly = sklearn.preprocessing.PolynomialFeatures(10)\n",
    "X_p = poly.fit_transform(X)\n",
    "kfold = sklearn.model_selection.KFold(10, random_state=123, shuffle=True)\n",
    "\n",
    "\n",
    "for deg in range(2,12):\n",
    "    linreg = LinearRegression()\n",
    "    score = cross_val_score(linreg, X_p[:,:deg], y, scoring='neg_mean_squared_error', cv=kfold)\n",
    "    kfold_scores.append(np.mean(score))\n",
    "    \n",
    "print(kfold_scores)"
   ]
  },
  {
   "cell_type": "markdown",
   "metadata": {},
   "source": [
    "Note that despite fitting polynomials of degree up to 10, this is much quicker to run than the above LOOCV operation. It also confirms our suspicion: adding powers of `horsepower` does not improve our model past degree 2."
   ]
  },
  {
   "cell_type": "markdown",
   "metadata": {},
   "source": [
    "---\n",
    "## **4. The Bootstrap**\n",
    "The Porfolio dataset is a toy dataset representing the returns of two fictitious financial assets. We invest some fraction $\\alpha$ of our money in $X$ and $1-\\alpha$ in $Y$; we want to choose $\\alpha$ so as to minimize our risk, that is $\\text{Var}(\\alpha X + (1-\\alpha) Y)$."
   ]
  },
  {
   "cell_type": "code",
   "execution_count": 127,
   "metadata": {},
   "outputs": [
    {
     "data": {
      "text/html": [
       "<div>\n",
       "<style scoped>\n",
       "    .dataframe tbody tr th:only-of-type {\n",
       "        vertical-align: middle;\n",
       "    }\n",
       "\n",
       "    .dataframe tbody tr th {\n",
       "        vertical-align: top;\n",
       "    }\n",
       "\n",
       "    .dataframe thead th {\n",
       "        text-align: right;\n",
       "    }\n",
       "</style>\n",
       "<table border=\"1\" class=\"dataframe\">\n",
       "  <thead>\n",
       "    <tr style=\"text-align: right;\">\n",
       "      <th></th>\n",
       "      <th>X</th>\n",
       "      <th>Y</th>\n",
       "    </tr>\n",
       "  </thead>\n",
       "  <tbody>\n",
       "    <tr>\n",
       "      <th>0</th>\n",
       "      <td>-0.895251</td>\n",
       "      <td>-0.234924</td>\n",
       "    </tr>\n",
       "    <tr>\n",
       "      <th>1</th>\n",
       "      <td>-1.562454</td>\n",
       "      <td>-0.885176</td>\n",
       "    </tr>\n",
       "    <tr>\n",
       "      <th>2</th>\n",
       "      <td>-0.417090</td>\n",
       "      <td>0.271888</td>\n",
       "    </tr>\n",
       "    <tr>\n",
       "      <th>3</th>\n",
       "      <td>1.044356</td>\n",
       "      <td>-0.734198</td>\n",
       "    </tr>\n",
       "    <tr>\n",
       "      <th>4</th>\n",
       "      <td>-0.315568</td>\n",
       "      <td>0.841983</td>\n",
       "    </tr>\n",
       "  </tbody>\n",
       "</table>\n",
       "</div>"
      ],
      "text/plain": [
       "          X         Y\n",
       "0 -0.895251 -0.234924\n",
       "1 -1.562454 -0.885176\n",
       "2 -0.417090  0.271888\n",
       "3  1.044356 -0.734198\n",
       "4 -0.315568  0.841983"
      ]
     },
     "execution_count": 127,
     "metadata": {},
     "output_type": "execute_result"
    }
   ],
   "source": [
    "portfolio = pd.read_csv('data/Portfolio.csv')\n",
    "portfolio.head()"
   ]
  },
  {
   "cell_type": "markdown",
   "metadata": {},
   "source": [
    "We start by creating a functio `alpha(data, index)` which outputs the best possible $\\alpha$ given $X$ and $Y$ vectors; the best possible $\\alpha$ is given by the formula:\n",
    "$$\\alpha = \\frac{\\text{Var}(Y) - \\text{Cov}(X, Y)}{\\text{Var}(X) + \\text{Var}(Y) - 2\\text{Cov}(X, Y)} $$"
   ]
  },
  {
   "cell_type": "code",
   "execution_count": 133,
   "metadata": {},
   "outputs": [],
   "source": [
    "def alpha(data, index):\n",
    "    cov_mat = np.cov(data.iloc[index], rowvar=False)\n",
    "    return (cov_mat[1][1] - cov_mat[0][1])/(cov_mat[0][0] + cov_mat[1][1] - 2 * cov_mat[0][1])"
   ]
  },
  {
   "cell_type": "code",
   "execution_count": 125,
   "metadata": {},
   "outputs": [
    {
     "data": {
      "text/plain": [
       "0.57583207459283"
      ]
     },
     "execution_count": 125,
     "metadata": {},
     "output_type": "execute_result"
    }
   ],
   "source": [
    "alpha(portfolio, range(0,100))"
   ]
  },
  {
   "cell_type": "markdown",
   "metadata": {},
   "source": [
    "Recall that the bootstrap method consists in sampling $n$ observations from our data, with replacement (that is, allowing ourselves to sample the same observation twice). We can do it with numpy:"
   ]
  },
  {
   "cell_type": "code",
   "execution_count": 132,
   "metadata": {},
   "outputs": [
    {
     "data": {
      "text/plain": [
       "0.6840573988381439"
      ]
     },
     "execution_count": 132,
     "metadata": {},
     "output_type": "execute_result"
    }
   ],
   "source": [
    "sample = np.random.choice(range(100), size=100, replace=True)\n",
    "alpha(portfolio, sample)"
   ]
  },
  {
   "cell_type": "markdown",
   "metadata": {},
   "source": [
    "While R has a bootstrap function that computes some statistics automatically, `sklearn` doesn't, so we'll have to do things by hand. We repeatedly draw new samples from the data and compute our estimate of $\\alpha$, then calculate the average and standard error of our estimates."
   ]
  },
  {
   "cell_type": "code",
   "execution_count": 154,
   "metadata": {},
   "outputs": [
    {
     "name": "stdout",
     "output_type": "stream",
     "text": [
      "0.5755326880555167 0.08727324902056764\n"
     ]
    }
   ],
   "source": [
    "alphas = []\n",
    "\n",
    "for _ in range(1000):\n",
    "    sample = sklearn.utils.resample(portfolio)\n",
    "    cov_mat = np.cov(sample, rowvar=False)\n",
    "    alphas.append((cov_mat[1][1] - cov_mat[0][1])/(cov_mat[0][0] + cov_mat[1][1] - 2 * cov_mat[0][1]))\n",
    "    \n",
    "alpha_bar = np.mean(alphas)\n",
    "alpha_se = np.sqrt(np.mean((alphas - alpha_bar) ** 2))\n",
    "\n",
    "print(alpha_bar, alpha_se)"
   ]
  },
  {
   "cell_type": "markdown",
   "metadata": {},
   "source": [
    "### Estimating the accuracy of a linear regression model"
   ]
  },
  {
   "cell_type": "code",
   "execution_count": 161,
   "metadata": {},
   "outputs": [
    {
     "name": "stdout",
     "output_type": "stream",
     "text": [
      "39.99075703145758 0.8735827584462424\n",
      "-0.15841505908164527 0.00752310691908777\n"
     ]
    }
   ],
   "source": [
    "coefs = []\n",
    "intercepts = []\n",
    "\n",
    "for _ in range(1000):\n",
    "    sample = sklearn.utils.resample(auto)\n",
    "    linreg = LinearRegression()\n",
    "    linreg.fit(sample[['horsepower']], sample['mpg'])\n",
    "    coefs.append(linreg.coef_)\n",
    "    intercepts.append(linreg.intercept_)\n",
    "\n",
    "c1_bar = np.mean(coefs)\n",
    "c1_se = np.sqrt(np.mean((coefs - c1_bar) ** 2))\n",
    "c0_bar = np.mean(intercepts)\n",
    "c0_se = np.sqrt(np.mean((intercepts - c0_bar) ** 2))\n",
    "\n",
    "print(c0_bar, c0_se)\n",
    "print(c1_bar, c1_se)"
   ]
  },
  {
   "cell_type": "markdown",
   "metadata": {},
   "source": [
    "How do these estimators compare with what we'd get from a `statsmodels` summary?"
   ]
  },
  {
   "cell_type": "code",
   "execution_count": 164,
   "metadata": {},
   "outputs": [
    {
     "name": "stdout",
     "output_type": "stream",
     "text": [
      "                            OLS Regression Results                            \n",
      "==============================================================================\n",
      "Dep. Variable:                    mpg   R-squared:                       0.606\n",
      "Model:                            OLS   Adj. R-squared:                  0.605\n",
      "Method:                 Least Squares   F-statistic:                     599.7\n",
      "Date:                Mon, 12 Oct 2020   Prob (F-statistic):           7.03e-81\n",
      "Time:                        15:23:44   Log-Likelihood:                -1178.7\n",
      "No. Observations:                 392   AIC:                             2361.\n",
      "Df Residuals:                     390   BIC:                             2369.\n",
      "Df Model:                           1                                         \n",
      "Covariance Type:            nonrobust                                         \n",
      "==============================================================================\n",
      "                 coef    std err          t      P>|t|      [0.025      0.975]\n",
      "------------------------------------------------------------------------------\n",
      "const         39.9359      0.717     55.660      0.000      38.525      41.347\n",
      "horsepower    -0.1578      0.006    -24.489      0.000      -0.171      -0.145\n",
      "==============================================================================\n",
      "Omnibus:                       16.432   Durbin-Watson:                   0.920\n",
      "Prob(Omnibus):                  0.000   Jarque-Bera (JB):               17.305\n",
      "Skew:                           0.492   Prob(JB):                     0.000175\n",
      "Kurtosis:                       3.299   Cond. No.                         322.\n",
      "==============================================================================\n",
      "\n",
      "Notes:\n",
      "[1] Standard Errors assume that the covariance matrix of the errors is correctly specified.\n"
     ]
    }
   ],
   "source": [
    "auto_sm = sm.add_constant(auto)\n",
    "linreg_sm = sm.OLS(auto_sm['mpg'], auto_sm[['const','horsepower']])\n",
    "linreg_sm = linreg_sm.fit()\n",
    "print(linreg_sm.summary())"
   ]
  },
  {
   "cell_type": "markdown",
   "metadata": {},
   "source": [
    "The standard error estimated by the bootstrap method is higher than that of the summary. See ISLr for an explanation of why that is.\n",
    "\n",
    "We wrap up with the same estimation for a quadratic fit:"
   ]
  },
  {
   "cell_type": "code",
   "execution_count": 206,
   "metadata": {},
   "outputs": [
    {
     "name": "stdout",
     "output_type": "stream",
     "text": [
      "56.91368452367508 2.09182173593441\n",
      "-0.46661940260215534 0.033245507665772604\n",
      "0.00123273648234643 4.163336342344337e-20\n"
     ]
    }
   ],
   "source": [
    "poly = sklearn.preprocessing.PolynomialFeatures(2)\n",
    "X_p = poly.fit_transform(X)\n",
    "\n",
    "c1q = []\n",
    "c2q = []\n",
    "interceptsq = []\n",
    "\n",
    "for _ in range(1000):\n",
    "    X_sample, y_sample = sklearn.utils.resample(X_p, auto['mpg'])\n",
    "    quadreg = LinearRegression()\n",
    "    quadreg.fit(X_sample, y_sample)\n",
    "    c1q.append(quadreg.coef_[1])\n",
    "    c2q.append(quadreg.coef_[2])\n",
    "    interceptsq.append(quadreg.intercept_)\n",
    "\n",
    "c1_bar = np.mean(c1q)\n",
    "c1_se = np.sqrt(np.mean((c1q - c1_bar) ** 2))\n",
    "c2_bar = np.mean(c2q)\n",
    "c2_se = np.sqrt(np.mean(c2q - c2_bar) ** 2)\n",
    "c0_bar = np.mean(interceptsq)\n",
    "c0_se = np.sqrt(np.mean((interceptsq - c0_bar) ** 2))\n",
    "\n",
    "print(c0_bar, c0_se)\n",
    "print(c1_bar, c1_se)\n",
    "print(c2_bar, c2_se)"
   ]
  },
  {
   "cell_type": "code",
   "execution_count": 207,
   "metadata": {},
   "outputs": [
    {
     "name": "stdout",
     "output_type": "stream",
     "text": [
      "                            OLS Regression Results                            \n",
      "==============================================================================\n",
      "Dep. Variable:                    mpg   R-squared:                       0.688\n",
      "Model:                            OLS   Adj. R-squared:                  0.686\n",
      "Method:                 Least Squares   F-statistic:                     428.0\n",
      "Date:                Mon, 12 Oct 2020   Prob (F-statistic):           5.40e-99\n",
      "Time:                        16:23:28   Log-Likelihood:                -1133.2\n",
      "No. Observations:                 392   AIC:                             2272.\n",
      "Df Residuals:                     389   BIC:                             2284.\n",
      "Df Model:                           2                                         \n",
      "Covariance Type:            nonrobust                                         \n",
      "==============================================================================\n",
      "                 coef    std err          t      P>|t|      [0.025      0.975]\n",
      "------------------------------------------------------------------------------\n",
      "const         56.9001      1.800     31.604      0.000      53.360      60.440\n",
      "x1            -0.4662      0.031    -14.978      0.000      -0.527      -0.405\n",
      "x2             0.0012      0.000     10.080      0.000       0.001       0.001\n",
      "==============================================================================\n",
      "Omnibus:                       16.158   Durbin-Watson:                   1.078\n",
      "Prob(Omnibus):                  0.000   Jarque-Bera (JB):               30.662\n",
      "Skew:                           0.218   Prob(JB):                     2.20e-07\n",
      "Kurtosis:                       4.299   Cond. No.                     1.29e+05\n",
      "==============================================================================\n",
      "\n",
      "Notes:\n",
      "[1] Standard Errors assume that the covariance matrix of the errors is correctly specified.\n",
      "[2] The condition number is large, 1.29e+05. This might indicate that there are\n",
      "strong multicollinearity or other numerical problems.\n"
     ]
    }
   ],
   "source": [
    "quadreg_sm = sm.OLS(auto['mpg'], X_p)\n",
    "quadreg_sm = quadreg_sm.fit()\n",
    "print(quadreg_sm.summary())"
   ]
  },
  {
   "cell_type": "markdown",
   "metadata": {},
   "source": [
    "The bootstrap errors are more similar (except fort the intercept) to the theoretical ones, due to the fact that the quadratic regression fits the data better."
   ]
  },
  {
   "cell_type": "code",
   "execution_count": null,
   "metadata": {},
   "outputs": [],
   "source": []
  }
 ],
 "metadata": {
  "kernelspec": {
   "display_name": "Python 3",
   "language": "python",
   "name": "python3"
  },
  "language_info": {
   "codemirror_mode": {
    "name": "ipython",
    "version": 3
   },
   "file_extension": ".py",
   "mimetype": "text/x-python",
   "name": "python",
   "nbconvert_exporter": "python",
   "pygments_lexer": "ipython3",
   "version": "3.8.2"
  }
 },
 "nbformat": 4,
 "nbformat_minor": 4
}
