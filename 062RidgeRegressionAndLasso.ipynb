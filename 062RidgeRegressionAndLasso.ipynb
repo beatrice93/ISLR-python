{
 "cells": [
  {
   "cell_type": "markdown",
   "metadata": {},
   "source": [
    "# **LAB: RIDGE REGRESSION AND THE LASSO**\n",
    "Packages used:\n",
    " - `statsmodels` and `sklearn` for statistical tests and prediction;\n",
    " - and of course, `pandas` for data wrangling and organizing, as well as `matplotlib` and `seaborn` for pictures.\n",
    "\n",
    "(see Readme for more information about the packages)"
   ]
  },
  {
   "cell_type": "code",
   "execution_count": 1,
   "metadata": {},
   "outputs": [],
   "source": [
    "%matplotlib inline\n",
    "import matplotlib.pyplot as plt\n",
    "import numpy as np\n",
    "import pandas as pd\n",
    "import sklearn\n",
    "import seaborn as sns\n",
    "import statsmodels.api as sm\n",
    "from scipy import stats\n",
    "from itertools import combinations\n",
    "import time\n",
    "\n",
    "\n",
    "sns.set_theme(style=\"darkgrid\")"
   ]
  },
  {
   "cell_type": "markdown",
   "metadata": {},
   "source": [
    "We work with the `Hitters` data again, and will predict `Salary`. Remember to drop the missing values and get dummy variables for the categorical predictors."
   ]
  },
  {
   "cell_type": "code",
   "execution_count": 6,
   "metadata": {},
   "outputs": [],
   "source": [
    "hitters = pd.read_csv('data/Hitters.csv')\n",
    "hitters.dropna(subset=['Salary'], inplace=True)\n",
    "hitters = pd.get_dummies(hitters, drop_first=True)"
   ]
  },
  {
   "cell_type": "markdown",
   "metadata": {},
   "source": [
    "We then scale our data and split it into predictors/targets; remember that `StandardScaler.fit()` returns an array; to keep our column names we make it into a dataframe."
   ]
  },
  {
   "cell_type": "code",
   "execution_count": 247,
   "metadata": {},
   "outputs": [],
   "source": [
    "X = hitters.drop(columns='Salary')\n",
    "y = hitters['Salary']"
   ]
  },
  {
   "cell_type": "markdown",
   "metadata": {},
   "source": [
    "## **1. Ridge regression**\n",
    "The Ridge regression model is available as the class `Ridge` from `sklearn.linear_model`. We can pass a regularization parameter using the keyword argument `alpha` (the parameter that is denoted $\\lambda$ in ISLR); set to $1$ by default. The `normalize` parameter tells the ridge regression to normalize each sample so it has unit length. The relative values of the predictors for each sample are kept, but the normalization process makes each sample weigh equally in the process. This is different from _standardization_, which normalizes each column and means every predictor should have roughly the same weight. \n",
    "\n",
    "We'll test a range of values for $\\alpha$, from $10^{-2}$ to $10^{10}$, and store the results in a $19\\times100$ numpy array; we're not storing the intercept in our array, since it is not subject to the regularization condition."
   ]
  },
  {
   "cell_type": "code",
   "execution_count": 248,
   "metadata": {},
   "outputs": [],
   "source": [
    "alphas = 10**np.linspace(10,-2,100)*0.5\n",
    "coefs = np.array([])\n",
    "\n",
    "from sklearn.linear_model import Ridge\n",
    "ridgereg = Ridge(normalize=True)\n",
    "\n",
    "for a in alphas:\n",
    "    ridgereg.set_params(alpha=a)\n",
    "    ridgereg.fit(X, y)\n",
    "    coefs = np.concatenate((coefs, ridgereg.coef_))\n",
    "\n",
    "coefs = coefs.reshape((100, 19))"
   ]
  },
  {
   "cell_type": "markdown",
   "metadata": {},
   "source": [
    "Optionally, store the values in a dataframe for more legibility, and plot the $\\ell_2$ norm of our coefficients:"
   ]
  },
  {
   "cell_type": "code",
   "execution_count": 249,
   "metadata": {},
   "outputs": [
    {
     "data": {
      "image/png": "[encoded data removed]",
      "text/plain": [
       "<Figure size 576x576 with 1 Axes>"
      ]
     },
     "metadata": {},
     "output_type": "display_data"
    }
   ],
   "source": [
    "coef_df = pd.DataFrame(data=coefs, columns=list(X.columns), index=alphas)\n",
    "l_2 =  np.fromiter((np.sqrt(sum(coef_df.iloc[i] ** 2)) for i in range(100)), dtype=float)\n",
    "\n",
    "fig, ax = plt.subplots(figsize=(8,8))\n",
    "plt.plot(alphas, coefs)\n",
    "ax.set_xscale('log')"
   ]
  },
  {
   "cell_type": "markdown",
   "metadata": {},
   "source": [
    "We can see the $\\ell_2$ norm decreases as $\\alpha$ increases.\n",
    "\n",
    "Now let us try to evaluate our model. We'll do a 50/50 train/test split:"
   ]
  },
  {
   "cell_type": "code",
   "execution_count": 250,
   "metadata": {},
   "outputs": [],
   "source": [
    "from sklearn.model_selection import train_test_split\n",
    "X_train, X_test, y_train, y_test = train_test_split(X, y, \n",
    "                                                    train_size=0.5, \n",
    "                                                    random_state=1)"
   ]
  },
  {
   "cell_type": "markdown",
   "metadata": {},
   "source": [
    "We fit a model on the training set and compute its MSE on the test set:"
   ]
  },
  {
   "cell_type": "code",
   "execution_count": 251,
   "metadata": {},
   "outputs": [],
   "source": [
    "from sklearn.metrics import mean_squared_error\n",
    "\n",
    "def mse(alpha):\n",
    "    ridgereg.set_params(alpha=alpha)\n",
    "    ridgereg.fit(X_train, y_train)\n",
    "    return mean_squared_error(ridgereg.predict(X_test), y_test)"
   ]
  },
  {
   "cell_type": "markdown",
   "metadata": {},
   "source": [
    "A parameter $\\alpha = 0$ corresponds to an ordinary least square linear regression. A very large $\\alpha$ is similar to fitting a horizontal lign (with only an intercept) to the data. Here we compare these MSEs to the MSE for $\\alpha = 4$, which seems to be an improvement on both extremes."
   ]
  },
  {
   "cell_type": "code",
   "execution_count": 252,
   "metadata": {},
   "outputs": [
    {
     "name": "stdout",
     "output_type": "stream",
     "text": [
      "116690.46856660162 106216.52238005561 172862.23580379886\n"
     ]
    }
   ],
   "source": [
    "print(mse(0), mse(4), mse(10 ** 10))"
   ]
  },
  {
   "cell_type": "markdown",
   "metadata": {},
   "source": [
    "Of course, if we want to do things properly, we use cross-validation to determine the best value for our parameter $\\alpha$. We'll use the full range of $\\alpha$'s we determined earlier, from $10^{-2}$ to $10^{10}$. By default, `RidgeCV()` performs generalized cross-validation (a more efficient form of LOOCV). We'll leave the parameter as is, but it can be changed with the keyword argument `cv`."
   ]
  },
  {
   "cell_type": "code",
   "execution_count": 253,
   "metadata": {},
   "outputs": [
    {
     "data": {
      "text/plain": [
       "0.5748784976988678"
      ]
     },
     "execution_count": 253,
     "metadata": {},
     "output_type": "execute_result"
    }
   ],
   "source": [
    "from sklearn.linear_model import RidgeCV\n",
    "ridgecv = RidgeCV(alphas=alphas, normalize=True, scoring='neg_mean_squared_error')\n",
    "ridgecv.fit(X_train, y_train)\n",
    "ridgecv.alpha_"
   ]
  },
  {
   "cell_type": "markdown",
   "metadata": {},
   "source": [
    "Here is the test MSE associated to our model:"
   ]
  },
  {
   "cell_type": "code",
   "execution_count": 254,
   "metadata": {},
   "outputs": [
    {
     "data": {
      "text/plain": [
       "99825.64896292747"
      ]
     },
     "execution_count": 254,
     "metadata": {},
     "output_type": "execute_result"
    }
   ],
   "source": [
    "mean_squared_error(ridgecv.predict(X_test), y_test)"
   ]
  },
  {
   "cell_type": "markdown",
   "metadata": {},
   "source": [
    "It is better than our randomly chosen $\\alpha = 4$, and of course better than ordinary least squares.\n",
    "\n",
    "Finally, we can refit our model using our estimate of the best $\\alpha$, on the whole set this time:"
   ]
  },
  {
   "cell_type": "code",
   "execution_count": 255,
   "metadata": {},
   "outputs": [
    {
     "data": {
      "text/plain": [
       "AtBat           0.055838\n",
       "Hits            0.934879\n",
       "HmRun           0.369048\n",
       "Runs            1.092480\n",
       "RBI             0.878259\n",
       "Walks           1.717770\n",
       "Years           0.783515\n",
       "CAtBat          0.011318\n",
       "CHits           0.061101\n",
       "CHmRun          0.428333\n",
       "CRuns           0.121418\n",
       "CRBI            0.129351\n",
       "CWalks          0.041990\n",
       "PutOuts         0.179957\n",
       "Assists         0.035737\n",
       "Errors         -1.597699\n",
       "League_N       24.774519\n",
       "Division_W    -85.948661\n",
       "NewLeague_N     8.336918\n",
       "dtype: float64"
      ]
     },
     "execution_count": 255,
     "metadata": {},
     "output_type": "execute_result"
    }
   ],
   "source": [
    "ridge_best = Ridge(alpha=ridgecv.alpha_, normalize=True)\n",
    "ridge_best.fit(X, y)\n",
    "pd.Series(ridge_best.coef_, index = X.columns)"
   ]
  },
  {
   "cell_type": "markdown",
   "metadata": {},
   "source": [
    "We have some small values and a few large ones. None of the coefficients is zero: ridge regression does not perform feature selection!"
   ]
  },
  {
   "cell_type": "markdown",
   "metadata": {},
   "source": [
    "## **2. The lasso**\n",
    "Let's see how the lasso performs on our dataset; we'll procede just as with the ridge regression. Note that we need to pass the `max_iter=10000` argument to our `Lasso` class so it converges (this is empirical)."
   ]
  },
  {
   "cell_type": "code",
   "execution_count": 259,
   "metadata": {},
   "outputs": [],
   "source": [
    "from sklearn.linear_model import Lasso\n",
    "coefs_l = np.array([])\n",
    "lasso = Lasso(normalize=True, max_iter=10000)\n",
    "\n",
    "for a in alphas:\n",
    "    lasso.set_params(alpha=a)\n",
    "    lasso.fit(X_train, y_train)\n",
    "    coefs_l = np.concatenate((coefs_l, lasso.coef_))\n",
    "\n",
    "coefs_l = coefs_l.reshape((100, 19))"
   ]
  },
  {
   "cell_type": "code",
   "execution_count": 268,
   "metadata": {},
   "outputs": [
    {
     "data": {
      "image/png": "[encoded data removed]",
      "text/plain": [
       "<Figure size 576x576 with 1 Axes>"
      ]
     },
     "metadata": {},
     "output_type": "display_data"
    }
   ],
   "source": [
    "coefs_l = pd.DataFrame(data=coefs_l, columns=list(X.columns), index=alphas)\n",
    "\n",
    "fig, ax = plt.subplots(figsize=(8,8))\n",
    "plt.plot(alphas, coefs_l)\n",
    "ax.set_xscale('log')"
   ]
  },
  {
   "cell_type": "markdown",
   "metadata": {},
   "source": [
    "Not super visible on the plot, but some of the coefficients are actually zero in many cases. Take a look at `coefs_l` to confirm:"
   ]
  },
  {
   "cell_type": "code",
   "execution_count": 270,
   "metadata": {},
   "outputs": [
    {
     "data": {
      "text/html": [
       "<div>\n",
       "<style scoped>\n",
       "    .dataframe tbody tr th:only-of-type {\n",
       "        vertical-align: middle;\n",
       "    }\n",
       "\n",
       "    .dataframe tbody tr th {\n",
       "        vertical-align: top;\n",
       "    }\n",
       "\n",
       "    .dataframe thead th {\n",
       "        text-align: right;\n",
       "    }\n",
       "</style>\n",
       "<table border=\"1\" class=\"dataframe\">\n",
       "  <thead>\n",
       "    <tr style=\"text-align: right;\">\n",
       "      <th></th>\n",
       "      <th>AtBat</th>\n",
       "      <th>Hits</th>\n",
       "      <th>HmRun</th>\n",
       "      <th>Runs</th>\n",
       "      <th>RBI</th>\n",
       "      <th>Walks</th>\n",
       "      <th>Years</th>\n",
       "      <th>CAtBat</th>\n",
       "      <th>CHits</th>\n",
       "      <th>CHmRun</th>\n",
       "      <th>CRuns</th>\n",
       "      <th>CRBI</th>\n",
       "      <th>CWalks</th>\n",
       "      <th>PutOuts</th>\n",
       "      <th>Assists</th>\n",
       "      <th>Errors</th>\n",
       "      <th>League_N</th>\n",
       "      <th>Division_W</th>\n",
       "      <th>NewLeague_N</th>\n",
       "    </tr>\n",
       "  </thead>\n",
       "  <tbody>\n",
       "    <tr>\n",
       "      <th>5.000000e+09</th>\n",
       "      <td>0.000000</td>\n",
       "      <td>0.000000</td>\n",
       "      <td>0.000000</td>\n",
       "      <td>0.000000</td>\n",
       "      <td>0.000000</td>\n",
       "      <td>0.000000</td>\n",
       "      <td>0.000000</td>\n",
       "      <td>0.000000</td>\n",
       "      <td>0.000000</td>\n",
       "      <td>0.000000</td>\n",
       "      <td>0.000000</td>\n",
       "      <td>0.000000</td>\n",
       "      <td>0.000000</td>\n",
       "      <td>0.000000</td>\n",
       "      <td>-0.000000</td>\n",
       "      <td>0.000000</td>\n",
       "      <td>-0.000000</td>\n",
       "      <td>-0.000000</td>\n",
       "      <td>-0.000000</td>\n",
       "    </tr>\n",
       "    <tr>\n",
       "      <th>3.782317e+09</th>\n",
       "      <td>0.000000</td>\n",
       "      <td>0.000000</td>\n",
       "      <td>0.000000</td>\n",
       "      <td>0.000000</td>\n",
       "      <td>0.000000</td>\n",
       "      <td>0.000000</td>\n",
       "      <td>0.000000</td>\n",
       "      <td>0.000000</td>\n",
       "      <td>0.000000</td>\n",
       "      <td>0.000000</td>\n",
       "      <td>0.000000</td>\n",
       "      <td>0.000000</td>\n",
       "      <td>0.000000</td>\n",
       "      <td>0.000000</td>\n",
       "      <td>-0.000000</td>\n",
       "      <td>0.000000</td>\n",
       "      <td>-0.000000</td>\n",
       "      <td>-0.000000</td>\n",
       "      <td>-0.000000</td>\n",
       "    </tr>\n",
       "    <tr>\n",
       "      <th>2.861184e+09</th>\n",
       "      <td>0.000000</td>\n",
       "      <td>0.000000</td>\n",
       "      <td>0.000000</td>\n",
       "      <td>0.000000</td>\n",
       "      <td>0.000000</td>\n",
       "      <td>0.000000</td>\n",
       "      <td>0.000000</td>\n",
       "      <td>0.000000</td>\n",
       "      <td>0.000000</td>\n",
       "      <td>0.000000</td>\n",
       "      <td>0.000000</td>\n",
       "      <td>0.000000</td>\n",
       "      <td>0.000000</td>\n",
       "      <td>0.000000</td>\n",
       "      <td>-0.000000</td>\n",
       "      <td>0.000000</td>\n",
       "      <td>-0.000000</td>\n",
       "      <td>-0.000000</td>\n",
       "      <td>-0.000000</td>\n",
       "    </tr>\n",
       "    <tr>\n",
       "      <th>2.164381e+09</th>\n",
       "      <td>0.000000</td>\n",
       "      <td>0.000000</td>\n",
       "      <td>0.000000</td>\n",
       "      <td>0.000000</td>\n",
       "      <td>0.000000</td>\n",
       "      <td>0.000000</td>\n",
       "      <td>0.000000</td>\n",
       "      <td>0.000000</td>\n",
       "      <td>0.000000</td>\n",
       "      <td>0.000000</td>\n",
       "      <td>0.000000</td>\n",
       "      <td>0.000000</td>\n",
       "      <td>0.000000</td>\n",
       "      <td>0.000000</td>\n",
       "      <td>-0.000000</td>\n",
       "      <td>0.000000</td>\n",
       "      <td>-0.000000</td>\n",
       "      <td>-0.000000</td>\n",
       "      <td>-0.000000</td>\n",
       "    </tr>\n",
       "    <tr>\n",
       "      <th>1.637275e+09</th>\n",
       "      <td>0.000000</td>\n",
       "      <td>0.000000</td>\n",
       "      <td>0.000000</td>\n",
       "      <td>0.000000</td>\n",
       "      <td>0.000000</td>\n",
       "      <td>0.000000</td>\n",
       "      <td>0.000000</td>\n",
       "      <td>0.000000</td>\n",
       "      <td>0.000000</td>\n",
       "      <td>0.000000</td>\n",
       "      <td>0.000000</td>\n",
       "      <td>0.000000</td>\n",
       "      <td>0.000000</td>\n",
       "      <td>0.000000</td>\n",
       "      <td>-0.000000</td>\n",
       "      <td>0.000000</td>\n",
       "      <td>-0.000000</td>\n",
       "      <td>-0.000000</td>\n",
       "      <td>-0.000000</td>\n",
       "    </tr>\n",
       "    <tr>\n",
       "      <th>...</th>\n",
       "      <td>...</td>\n",
       "      <td>...</td>\n",
       "      <td>...</td>\n",
       "      <td>...</td>\n",
       "      <td>...</td>\n",
       "      <td>...</td>\n",
       "      <td>...</td>\n",
       "      <td>...</td>\n",
       "      <td>...</td>\n",
       "      <td>...</td>\n",
       "      <td>...</td>\n",
       "      <td>...</td>\n",
       "      <td>...</td>\n",
       "      <td>...</td>\n",
       "      <td>...</td>\n",
       "      <td>...</td>\n",
       "      <td>...</td>\n",
       "      <td>...</td>\n",
       "      <td>...</td>\n",
       "    </tr>\n",
       "    <tr>\n",
       "      <th>1.526928e-02</th>\n",
       "      <td>-1.937969</td>\n",
       "      <td>4.958392</td>\n",
       "      <td>-3.980822</td>\n",
       "      <td>-0.472856</td>\n",
       "      <td>3.480927</td>\n",
       "      <td>3.832849</td>\n",
       "      <td>7.500338</td>\n",
       "      <td>-0.527309</td>\n",
       "      <td>1.719184</td>\n",
       "      <td>2.156888</td>\n",
       "      <td>0.518973</td>\n",
       "      <td>-0.198610</td>\n",
       "      <td>0.042168</td>\n",
       "      <td>0.419571</td>\n",
       "      <td>0.443134</td>\n",
       "      <td>-5.498612</td>\n",
       "      <td>124.770894</td>\n",
       "      <td>-115.276331</td>\n",
       "      <td>-75.247256</td>\n",
       "    </tr>\n",
       "    <tr>\n",
       "      <th>1.155065e-02</th>\n",
       "      <td>-1.909585</td>\n",
       "      <td>4.788467</td>\n",
       "      <td>-4.173583</td>\n",
       "      <td>-0.367374</td>\n",
       "      <td>3.603449</td>\n",
       "      <td>3.744681</td>\n",
       "      <td>7.986097</td>\n",
       "      <td>-0.546228</td>\n",
       "      <td>1.830002</td>\n",
       "      <td>2.356883</td>\n",
       "      <td>0.457556</td>\n",
       "      <td>-0.295849</td>\n",
       "      <td>0.073583</td>\n",
       "      <td>0.419935</td>\n",
       "      <td>0.448303</td>\n",
       "      <td>-5.626517</td>\n",
       "      <td>126.953937</td>\n",
       "      <td>-114.903446</td>\n",
       "      <td>-76.873322</td>\n",
       "    </tr>\n",
       "    <tr>\n",
       "      <th>8.737642e-03</th>\n",
       "      <td>-1.888085</td>\n",
       "      <td>4.659781</td>\n",
       "      <td>-4.319502</td>\n",
       "      <td>-0.287488</td>\n",
       "      <td>3.696186</td>\n",
       "      <td>3.677920</td>\n",
       "      <td>8.353870</td>\n",
       "      <td>-0.560552</td>\n",
       "      <td>1.913905</td>\n",
       "      <td>2.508287</td>\n",
       "      <td>0.411056</td>\n",
       "      <td>-0.369460</td>\n",
       "      <td>0.097368</td>\n",
       "      <td>0.420210</td>\n",
       "      <td>0.452215</td>\n",
       "      <td>-5.723345</td>\n",
       "      <td>128.606126</td>\n",
       "      <td>-114.621245</td>\n",
       "      <td>-78.103727</td>\n",
       "    </tr>\n",
       "    <tr>\n",
       "      <th>6.609706e-03</th>\n",
       "      <td>-1.871803</td>\n",
       "      <td>4.562353</td>\n",
       "      <td>-4.429944</td>\n",
       "      <td>-0.227003</td>\n",
       "      <td>3.766368</td>\n",
       "      <td>3.627379</td>\n",
       "      <td>8.632260</td>\n",
       "      <td>-0.571395</td>\n",
       "      <td>1.977416</td>\n",
       "      <td>2.622886</td>\n",
       "      <td>0.375856</td>\n",
       "      <td>-0.425176</td>\n",
       "      <td>0.115373</td>\n",
       "      <td>0.420418</td>\n",
       "      <td>0.455175</td>\n",
       "      <td>-5.796635</td>\n",
       "      <td>129.856408</td>\n",
       "      <td>-114.407697</td>\n",
       "      <td>-79.034684</td>\n",
       "    </tr>\n",
       "    <tr>\n",
       "      <th>5.000000e-03</th>\n",
       "      <td>-1.859475</td>\n",
       "      <td>4.488591</td>\n",
       "      <td>-4.513533</td>\n",
       "      <td>-0.181209</td>\n",
       "      <td>3.819481</td>\n",
       "      <td>3.589118</td>\n",
       "      <td>8.842986</td>\n",
       "      <td>-0.579604</td>\n",
       "      <td>2.025490</td>\n",
       "      <td>2.709625</td>\n",
       "      <td>0.349211</td>\n",
       "      <td>-0.467347</td>\n",
       "      <td>0.129002</td>\n",
       "      <td>0.420575</td>\n",
       "      <td>0.457416</td>\n",
       "      <td>-5.852107</td>\n",
       "      <td>130.802544</td>\n",
       "      <td>-114.246100</td>\n",
       "      <td>-79.739067</td>\n",
       "    </tr>\n",
       "  </tbody>\n",
       "</table>\n",
       "<p>100 rows × 19 columns</p>\n",
       "</div>"
      ],
      "text/plain": [
       "                 AtBat      Hits     HmRun      Runs       RBI     Walks  \\\n",
       "5.000000e+09  0.000000  0.000000  0.000000  0.000000  0.000000  0.000000   \n",
       "3.782317e+09  0.000000  0.000000  0.000000  0.000000  0.000000  0.000000   \n",
       "2.861184e+09  0.000000  0.000000  0.000000  0.000000  0.000000  0.000000   \n",
       "2.164381e+09  0.000000  0.000000  0.000000  0.000000  0.000000  0.000000   \n",
       "1.637275e+09  0.000000  0.000000  0.000000  0.000000  0.000000  0.000000   \n",
       "...                ...       ...       ...       ...       ...       ...   \n",
       "1.526928e-02 -1.937969  4.958392 -3.980822 -0.472856  3.480927  3.832849   \n",
       "1.155065e-02 -1.909585  4.788467 -4.173583 -0.367374  3.603449  3.744681   \n",
       "8.737642e-03 -1.888085  4.659781 -4.319502 -0.287488  3.696186  3.677920   \n",
       "6.609706e-03 -1.871803  4.562353 -4.429944 -0.227003  3.766368  3.627379   \n",
       "5.000000e-03 -1.859475  4.488591 -4.513533 -0.181209  3.819481  3.589118   \n",
       "\n",
       "                 Years    CAtBat     CHits    CHmRun     CRuns      CRBI  \\\n",
       "5.000000e+09  0.000000  0.000000  0.000000  0.000000  0.000000  0.000000   \n",
       "3.782317e+09  0.000000  0.000000  0.000000  0.000000  0.000000  0.000000   \n",
       "2.861184e+09  0.000000  0.000000  0.000000  0.000000  0.000000  0.000000   \n",
       "2.164381e+09  0.000000  0.000000  0.000000  0.000000  0.000000  0.000000   \n",
       "1.637275e+09  0.000000  0.000000  0.000000  0.000000  0.000000  0.000000   \n",
       "...                ...       ...       ...       ...       ...       ...   \n",
       "1.526928e-02  7.500338 -0.527309  1.719184  2.156888  0.518973 -0.198610   \n",
       "1.155065e-02  7.986097 -0.546228  1.830002  2.356883  0.457556 -0.295849   \n",
       "8.737642e-03  8.353870 -0.560552  1.913905  2.508287  0.411056 -0.369460   \n",
       "6.609706e-03  8.632260 -0.571395  1.977416  2.622886  0.375856 -0.425176   \n",
       "5.000000e-03  8.842986 -0.579604  2.025490  2.709625  0.349211 -0.467347   \n",
       "\n",
       "                CWalks   PutOuts   Assists    Errors    League_N  Division_W  \\\n",
       "5.000000e+09  0.000000  0.000000 -0.000000  0.000000   -0.000000   -0.000000   \n",
       "3.782317e+09  0.000000  0.000000 -0.000000  0.000000   -0.000000   -0.000000   \n",
       "2.861184e+09  0.000000  0.000000 -0.000000  0.000000   -0.000000   -0.000000   \n",
       "2.164381e+09  0.000000  0.000000 -0.000000  0.000000   -0.000000   -0.000000   \n",
       "1.637275e+09  0.000000  0.000000 -0.000000  0.000000   -0.000000   -0.000000   \n",
       "...                ...       ...       ...       ...         ...         ...   \n",
       "1.526928e-02  0.042168  0.419571  0.443134 -5.498612  124.770894 -115.276331   \n",
       "1.155065e-02  0.073583  0.419935  0.448303 -5.626517  126.953937 -114.903446   \n",
       "8.737642e-03  0.097368  0.420210  0.452215 -5.723345  128.606126 -114.621245   \n",
       "6.609706e-03  0.115373  0.420418  0.455175 -5.796635  129.856408 -114.407697   \n",
       "5.000000e-03  0.129002  0.420575  0.457416 -5.852107  130.802544 -114.246100   \n",
       "\n",
       "              NewLeague_N  \n",
       "5.000000e+09    -0.000000  \n",
       "3.782317e+09    -0.000000  \n",
       "2.861184e+09    -0.000000  \n",
       "2.164381e+09    -0.000000  \n",
       "1.637275e+09    -0.000000  \n",
       "...                   ...  \n",
       "1.526928e-02   -75.247256  \n",
       "1.155065e-02   -76.873322  \n",
       "8.737642e-03   -78.103727  \n",
       "6.609706e-03   -79.034684  \n",
       "5.000000e-03   -79.739067  \n",
       "\n",
       "[100 rows x 19 columns]"
      ]
     },
     "execution_count": 270,
     "metadata": {},
     "output_type": "execute_result"
    }
   ],
   "source": [
    "coefs_l"
   ]
  },
  {
   "cell_type": "markdown",
   "metadata": {},
   "source": [
    "To choose our tuning parameter $\\alpha$, we perform 10-fold cross-validation. As above with ridge regression, there is a `LassoCV` model available:"
   ]
  },
  {
   "cell_type": "code",
   "execution_count": 271,
   "metadata": {},
   "outputs": [
    {
     "data": {
      "text/plain": [
       "104904.36377748138"
      ]
     },
     "execution_count": 271,
     "metadata": {},
     "output_type": "execute_result"
    }
   ],
   "source": [
    "from sklearn.linear_model import LassoCV\n",
    "\n",
    "lassocv = LassoCV(alphas = alphas, cv = 10, max_iter = 100000, normalize = True)\n",
    "lassocv.fit(X_train, y_train)\n",
    "\n",
    "lasso.set_params(alpha=lassocv.alpha_)\n",
    "lasso.fit(X_train, y_train)\n",
    "mean_squared_error(y_test, lasso.predict(X_test))"
   ]
  },
  {
   "cell_type": "markdown",
   "metadata": {},
   "source": [
    "This is higher than our test error using ridge regression, but still substantially better than the null model and ordinary least squares. One big advantage that the lasso has over ridge regression, however, is that it sets some coefficients to exactly zero, yielding a more readable model. Let's take a look:"
   ]
  },
  {
   "cell_type": "code",
   "execution_count": 273,
   "metadata": {},
   "outputs": [
    {
     "data": {
      "text/plain": [
       "AtBat           0.000000\n",
       "Hits            1.089755\n",
       "HmRun           0.000000\n",
       "Runs            0.000000\n",
       "RBI             0.000000\n",
       "Walks           2.921569\n",
       "Years           0.000000\n",
       "CAtBat          0.000000\n",
       "CHits           0.000000\n",
       "CHmRun          0.223579\n",
       "CRuns           0.000000\n",
       "CRBI            0.515025\n",
       "CWalks          0.000000\n",
       "PutOuts         0.369934\n",
       "Assists        -0.000000\n",
       "Errors         -0.000000\n",
       "League_N        0.000000\n",
       "Division_W    -90.878889\n",
       "NewLeague_N     0.000000\n",
       "dtype: float64"
      ]
     },
     "execution_count": 273,
     "metadata": {},
     "output_type": "execute_result"
    }
   ],
   "source": [
    "pd.Series(lasso.coef_, index = X.columns)"
   ]
  },
  {
   "cell_type": "markdown",
   "metadata": {},
   "source": [
    "Only 6 of the 19 coefficients are nonzero!"
   ]
  }
 ],
 "metadata": {
  "kernelspec": {
   "display_name": "Python 3",
   "language": "python",
   "name": "python3"
  },
  "language_info": {
   "codemirror_mode": {
    "name": "ipython",
    "version": 3
   },
   "file_extension": ".py",
   "mimetype": "text/x-python",
   "name": "python",
   "nbconvert_exporter": "python",
   "pygments_lexer": "ipython3",
   "version": "3.8.5"
  }
 },
 "nbformat": 4,
 "nbformat_minor": 4
}
