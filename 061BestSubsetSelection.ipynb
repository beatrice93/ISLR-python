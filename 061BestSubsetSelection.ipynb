{
 "cells": [
  {
   "cell_type": "markdown",
   "metadata": {},
   "source": [
    "# **LAB: SUBSET SELECTION METHODS**\n",
    "Packages used:\n",
    " - `statsmodels` is meant for \"conducting statistical tests, and statistical data exploration\" it is technically more similar to R in its function, syntax and general use;\n",
    " - `sklearn` is meant for prediction; knowledge of scikit-learn is a very valuable skill nowadays, so I thought it best to include it;\n",
    " - and of course, `pandas` for data wrangling and organizing, as well as `matplotlib` and `seaborn` for pictures.\n"
   ]
  },
  {
   "cell_type": "code",
   "execution_count": 1,
   "metadata": {},
   "outputs": [],
   "source": [
    "%matplotlib inline\n",
    "import matplotlib.pyplot as plt\n",
    "import numpy as np\n",
    "import pandas as pd\n",
    "import sklearn\n",
    "import seaborn as sns\n",
    "import statsmodels.api as sm\n",
    "from scipy import stats\n",
    "from itertools import combinations\n",
    "import time\n",
    "\n",
    "\n",
    "sns.set_theme(style=\"darkgrid\")"
   ]
  },
  {
   "cell_type": "markdown",
   "metadata": {},
   "source": [
    "---\n",
    "## **1. Best Subset Selection**\n",
    "We apply subset selection methods to the `Hitters` data, which contains statistics about baseball players; we want to predict a player's salary based on their performances in the previous year."
   ]
  },
  {
   "cell_type": "code",
   "execution_count": 2,
   "metadata": {},
   "outputs": [
    {
     "data": {
      "text/html": [
       "<div>\n",
       "<style scoped>\n",
       "    .dataframe tbody tr th:only-of-type {\n",
       "        vertical-align: middle;\n",
       "    }\n",
       "\n",
       "    .dataframe tbody tr th {\n",
       "        vertical-align: top;\n",
       "    }\n",
       "\n",
       "    .dataframe thead th {\n",
       "        text-align: right;\n",
       "    }\n",
       "</style>\n",
       "<table border=\"1\" class=\"dataframe\">\n",
       "  <thead>\n",
       "    <tr style=\"text-align: right;\">\n",
       "      <th></th>\n",
       "      <th>AtBat</th>\n",
       "      <th>Hits</th>\n",
       "      <th>HmRun</th>\n",
       "      <th>Runs</th>\n",
       "      <th>RBI</th>\n",
       "      <th>Walks</th>\n",
       "      <th>Years</th>\n",
       "      <th>CAtBat</th>\n",
       "      <th>CHits</th>\n",
       "      <th>CHmRun</th>\n",
       "      <th>CRuns</th>\n",
       "      <th>CRBI</th>\n",
       "      <th>CWalks</th>\n",
       "      <th>League</th>\n",
       "      <th>Division</th>\n",
       "      <th>PutOuts</th>\n",
       "      <th>Assists</th>\n",
       "      <th>Errors</th>\n",
       "      <th>Salary</th>\n",
       "      <th>NewLeague</th>\n",
       "    </tr>\n",
       "  </thead>\n",
       "  <tbody>\n",
       "    <tr>\n",
       "      <th>0</th>\n",
       "      <td>293</td>\n",
       "      <td>66</td>\n",
       "      <td>1</td>\n",
       "      <td>30</td>\n",
       "      <td>29</td>\n",
       "      <td>14</td>\n",
       "      <td>1</td>\n",
       "      <td>293</td>\n",
       "      <td>66</td>\n",
       "      <td>1</td>\n",
       "      <td>30</td>\n",
       "      <td>29</td>\n",
       "      <td>14</td>\n",
       "      <td>A</td>\n",
       "      <td>E</td>\n",
       "      <td>446</td>\n",
       "      <td>33</td>\n",
       "      <td>20</td>\n",
       "      <td>NaN</td>\n",
       "      <td>A</td>\n",
       "    </tr>\n",
       "    <tr>\n",
       "      <th>1</th>\n",
       "      <td>315</td>\n",
       "      <td>81</td>\n",
       "      <td>7</td>\n",
       "      <td>24</td>\n",
       "      <td>38</td>\n",
       "      <td>39</td>\n",
       "      <td>14</td>\n",
       "      <td>3449</td>\n",
       "      <td>835</td>\n",
       "      <td>69</td>\n",
       "      <td>321</td>\n",
       "      <td>414</td>\n",
       "      <td>375</td>\n",
       "      <td>N</td>\n",
       "      <td>W</td>\n",
       "      <td>632</td>\n",
       "      <td>43</td>\n",
       "      <td>10</td>\n",
       "      <td>475.0</td>\n",
       "      <td>N</td>\n",
       "    </tr>\n",
       "    <tr>\n",
       "      <th>2</th>\n",
       "      <td>479</td>\n",
       "      <td>130</td>\n",
       "      <td>18</td>\n",
       "      <td>66</td>\n",
       "      <td>72</td>\n",
       "      <td>76</td>\n",
       "      <td>3</td>\n",
       "      <td>1624</td>\n",
       "      <td>457</td>\n",
       "      <td>63</td>\n",
       "      <td>224</td>\n",
       "      <td>266</td>\n",
       "      <td>263</td>\n",
       "      <td>A</td>\n",
       "      <td>W</td>\n",
       "      <td>880</td>\n",
       "      <td>82</td>\n",
       "      <td>14</td>\n",
       "      <td>480.0</td>\n",
       "      <td>A</td>\n",
       "    </tr>\n",
       "    <tr>\n",
       "      <th>3</th>\n",
       "      <td>496</td>\n",
       "      <td>141</td>\n",
       "      <td>20</td>\n",
       "      <td>65</td>\n",
       "      <td>78</td>\n",
       "      <td>37</td>\n",
       "      <td>11</td>\n",
       "      <td>5628</td>\n",
       "      <td>1575</td>\n",
       "      <td>225</td>\n",
       "      <td>828</td>\n",
       "      <td>838</td>\n",
       "      <td>354</td>\n",
       "      <td>N</td>\n",
       "      <td>E</td>\n",
       "      <td>200</td>\n",
       "      <td>11</td>\n",
       "      <td>3</td>\n",
       "      <td>500.0</td>\n",
       "      <td>N</td>\n",
       "    </tr>\n",
       "    <tr>\n",
       "      <th>4</th>\n",
       "      <td>321</td>\n",
       "      <td>87</td>\n",
       "      <td>10</td>\n",
       "      <td>39</td>\n",
       "      <td>42</td>\n",
       "      <td>30</td>\n",
       "      <td>2</td>\n",
       "      <td>396</td>\n",
       "      <td>101</td>\n",
       "      <td>12</td>\n",
       "      <td>48</td>\n",
       "      <td>46</td>\n",
       "      <td>33</td>\n",
       "      <td>N</td>\n",
       "      <td>E</td>\n",
       "      <td>805</td>\n",
       "      <td>40</td>\n",
       "      <td>4</td>\n",
       "      <td>91.5</td>\n",
       "      <td>N</td>\n",
       "    </tr>\n",
       "  </tbody>\n",
       "</table>\n",
       "</div>"
      ],
      "text/plain": [
       "   AtBat  Hits  HmRun  Runs  RBI  Walks  Years  CAtBat  CHits  CHmRun  CRuns  \\\n",
       "0    293    66      1    30   29     14      1     293     66       1     30   \n",
       "1    315    81      7    24   38     39     14    3449    835      69    321   \n",
       "2    479   130     18    66   72     76      3    1624    457      63    224   \n",
       "3    496   141     20    65   78     37     11    5628   1575     225    828   \n",
       "4    321    87     10    39   42     30      2     396    101      12     48   \n",
       "\n",
       "   CRBI  CWalks League Division  PutOuts  Assists  Errors  Salary NewLeague  \n",
       "0    29      14      A        E      446       33      20     NaN         A  \n",
       "1   414     375      N        W      632       43      10   475.0         N  \n",
       "2   266     263      A        W      880       82      14   480.0         A  \n",
       "3   838     354      N        E      200       11       3   500.0         N  \n",
       "4    46      33      N        E      805       40       4    91.5         N  "
      ]
     },
     "execution_count": 2,
     "metadata": {},
     "output_type": "execute_result"
    }
   ],
   "source": [
    "hitters = pd.read_csv('data/Hitters.csv')\n",
    "hitters.head()"
   ]
  },
  {
   "cell_type": "markdown",
   "metadata": {},
   "source": [
    "Note that the `Salary` variable is missing (written as `NaN`) for 59 players:"
   ]
  },
  {
   "cell_type": "code",
   "execution_count": 3,
   "metadata": {},
   "outputs": [
    {
     "data": {
      "text/plain": [
       "59"
      ]
     },
     "execution_count": 3,
     "metadata": {},
     "output_type": "execute_result"
    }
   ],
   "source": [
    "hitters['Salary'].isna().sum()"
   ]
  },
  {
   "cell_type": "markdown",
   "metadata": {},
   "source": [
    "Let's drop those rows for which we don't have `Salary` information."
   ]
  },
  {
   "cell_type": "code",
   "execution_count": 4,
   "metadata": {},
   "outputs": [],
   "source": [
    "hitters.dropna(subset=['Salary'], inplace=True)\n",
    "hitters = pd.get_dummies(hitters, drop_first=True)\n",
    "X = hitters.drop(columns='Salary')\n",
    "y = hitters['Salary']"
   ]
  },
  {
   "cell_type": "markdown",
   "metadata": {},
   "source": [
    "`sklearn` doesn't support \"brute force\" best subset selection natively, so we'll have to implement it ourselves. \n",
    "\n",
    "We do this in two steps: first, we compare models with a given number of predictors and chose the best one. We'll then use cross-validation to compare the best models for each size.\n",
    "\n",
    "\n",
    "To implement the first step, we use the `combinations(l,k)` function from the `itertools` module, which gives us all combinations of $k$ elements from the list `l`. We pass it the list `range(p)`, which corresponds to the list $0, \\ldots, p-1$ of indices of columns in our dataframe $X$, and it returns all subsets of this list of size $k$. \n",
    "\n",
    "We then fit our model using the columns corresponding to each subset, and select the best model according to our metric (by default, `sklearn` uses $R^2$ for linear regression). "
   ]
  },
  {
   "cell_type": "code",
   "execution_count": 5,
   "metadata": {},
   "outputs": [],
   "source": [
    "def best_subset_k(estimator, X, y, k):\n",
    "    p = X.shape[1]\n",
    "    all_subsets = combinations(range(p), k)  # list of all subsets of (0, 1, ..., p) of size k.\n",
    "    \n",
    "    best_subset = []\n",
    "    best_score = -np.inf\n",
    "    for subset in all_subsets:\n",
    "        estimator.fit(X.iloc[:, list(subset)], y)\n",
    "        score = estimator.score(X.iloc[:, list(subset)], y)\n",
    "        if score > best_score:\n",
    "            best_subset, best_score = subset, score\n",
    "    \n",
    "    return best_subset, best_score\n",
    "        "
   ]
  },
  {
   "cell_type": "markdown",
   "metadata": {},
   "source": [
    "Let's test this!\n",
    "\n",
    "_Note: this could take several minutes to run unless you have a fancy computer._"
   ]
  },
  {
   "cell_type": "code",
   "execution_count": 6,
   "metadata": {},
   "outputs": [
    {
     "name": "stdout",
     "output_type": "stream",
     "text": [
      "k = 1 R^2 = 0.321\n",
      "k = 2 R^2 = 0.425\n",
      "k = 3 R^2 = 0.451\n",
      "k = 4 R^2 = 0.475\n",
      "k = 5 R^2 = 0.491\n",
      "k = 6 R^2 = 0.509\n",
      "k = 7 R^2 = 0.514\n",
      "k = 8 R^2 = 0.529\n",
      "[0.3214500886678947, 0.42522374646677885, 0.45142941571795725, 0.47540665339478694, 0.4908036159635183, 0.5087145573589966, 0.5141226823612731, 0.5285568603025744]\n",
      "[(11,), (1, 11), (1, 11, 13), (1, 11, 13, 17), (0, 1, 11, 13, 17), (0, 1, 5, 11, 13, 17), (1, 5, 7, 8, 9, 13, 17), (0, 1, 5, 9, 10, 12, 13, 17)]\n"
     ]
    }
   ],
   "source": [
    "from sklearn.linear_model import LinearRegression\n",
    "linreg = LinearRegression()\n",
    "\n",
    "scores = []\n",
    "best_subsets = []\n",
    "for k in range(1, 9):\n",
    "    subset, score = best_subset_k(linreg, X, y, k)\n",
    "    print('k =', k, 'R^2 =', f\"{score:.3f}\")\n",
    "    scores.append(score)\n",
    "    best_subsets.append(subset)\n",
    "    \n",
    "print(scores)\n",
    "print(best_subsets)"
   ]
  },
  {
   "cell_type": "code",
   "execution_count": 7,
   "metadata": {},
   "outputs": [
    {
     "data": {
      "text/plain": [
       "[(11,),\n",
       " (1, 11),\n",
       " (1, 11, 13),\n",
       " (1, 11, 13, 17),\n",
       " (0, 1, 11, 13, 17),\n",
       " (0, 1, 5, 11, 13, 17),\n",
       " (1, 5, 7, 8, 9, 13, 17),\n",
       " (0, 1, 5, 9, 10, 12, 13, 17)]"
      ]
     },
     "execution_count": 7,
     "metadata": {},
     "output_type": "execute_result"
    }
   ],
   "source": [
    "best_subsets"
   ]
  },
  {
   "cell_type": "markdown",
   "metadata": {},
   "source": [
    "As anticipated, $R^2$ grows with the number of variables. To compare these subsets, we might want to use adjusted $R^2$, $RSS$, $C_p$ or $BIC$.\n",
    "\n",
    "We'll need the help of `statsmodels` for these."
   ]
  },
  {
   "cell_type": "code",
   "execution_count": 8,
   "metadata": {},
   "outputs": [
    {
     "name": "stdout",
     "output_type": "stream",
     "text": [
      "k = 1 \n",
      "RSS: 36179679.25504183 \n",
      "Adj. R^2: 0.3188502805784995 \n",
      "AIC: 3862.1393074062353 \n",
      "BIC: 3869.283615470591 \n",
      "\n",
      "k = 2 \n",
      "RSS: 30646559.89037283 \n",
      "Adj. R^2: 0.4208023906703695 \n",
      "AIC: 3820.487304575255 \n",
      "BIC: 3831.2037666717883 \n",
      "\n",
      "k = 3 \n",
      "RSS: 29249296.855867323 \n",
      "Adj. R^2: 0.44507531628611885 \n",
      "AIC: 3810.214440261381 \n",
      "BIC: 3824.503056390092 \n",
      "\n",
      "k = 4 \n",
      "RSS: 27970851.815816276 \n",
      "Adj. R^2: 0.4672734232148611 \n",
      "AIC: 3800.4602935887474 \n",
      "BIC: 3818.3210637496363 \n",
      "\n",
      "k = 5 \n",
      "RSS: 27149899.43201154 \n",
      "Adj. R^2: 0.4808970715270109 \n",
      "AIC: 3794.62562374912 \n",
      "BIC: 3816.058547942187 \n",
      "\n",
      "k = 6 \n",
      "RSS: 26194903.927595213 \n",
      "Adj. R^2: 0.49720005479709806 \n",
      "AIC: 3787.207999572956 \n",
      "BIC: 3812.2130777982 \n",
      "\n",
      "k = 7 \n",
      "RSS: 25906547.500623744 \n",
      "Adj. R^2: 0.5007848736417786 \n",
      "AIC: 3786.296813317884 \n",
      "BIC: 3814.874045575306 \n",
      "\n",
      "k = 8 \n",
      "RSS: 25136929.938960124 \n",
      "Adj. R^2: 0.5137082574774585 \n",
      "AIC: 3780.3653490320316 \n",
      "BIC: 3812.5147353216316 \n",
      "\n"
     ]
    }
   ],
   "source": [
    "X_sm = sm.add_constant(X, prepend = False)\n",
    "\n",
    "all_scores = []\n",
    "for subset in best_subsets:\n",
    "    linreg_sm = sm.OLS(y, X_sm.iloc[:, list(subset)+[X_sm.shape[1] - 1]])\n",
    "    linreg_sm = linreg_sm.fit()\n",
    "    all_scores.append([len(subset), linreg_sm.ssr, \n",
    "                       linreg_sm.rsquared_adj, linreg_sm.aic, linreg_sm.bic])\n",
    "    print('k =', len(subset), \n",
    "         '\\nRSS:', linreg_sm.ssr,\n",
    "         '\\nAdj. R^2:', linreg_sm.rsquared_adj,\n",
    "         '\\nAIC:', linreg_sm.aic,\n",
    "         '\\nBIC:', linreg_sm.bic, '\\n')"
   ]
  },
  {
   "cell_type": "markdown",
   "metadata": {},
   "source": [
    "Let's plot the different scorers to visualize the impact of our feature selection:"
   ]
  },
  {
   "cell_type": "code",
   "execution_count": 9,
   "metadata": {},
   "outputs": [
    {
     "data": {
      "image/png": "[encoded data removed]",
      "text/plain": [
       "<Figure size 720x720 with 4 Axes>"
      ]
     },
     "metadata": {},
     "output_type": "display_data"
    }
   ],
   "source": [
    "all_scores = np.array(all_scores)\n",
    "\n",
    "fig, axes = plt.subplots(2, 2, figsize=(10,10), sharex=True)\n",
    "ax1, ax2, ax3, ax4 = axes.flat\n",
    "\n",
    "ax1.scatter(all_scores[:,0], all_scores[:,1])\n",
    "ax1.set(title='RSS')\n",
    "\n",
    "ax2.scatter(all_scores[:,0], all_scores[:,2])\n",
    "ax2.set(title='Adj. $R^2$')\n",
    "\n",
    "ax3.scatter(all_scores[:,0], all_scores[:,3])\n",
    "ax3.set(title='AIC')\n",
    "\n",
    "ax4.scatter(all_scores[:,0], all_scores[:,4])\n",
    "ax4.set(title='BIC')\n",
    "\n",
    "\n",
    "fig.tight_layout()"
   ]
  },
  {
   "cell_type": "markdown",
   "metadata": {},
   "source": [
    "From these graphs, it looks like the model's fit improves up till 6 features, but there's not much improvement past that. Looks like our 6 featured-model is the best one. Here is the corresponding dataset:"
   ]
  },
  {
   "cell_type": "code",
   "execution_count": 10,
   "metadata": {},
   "outputs": [
    {
     "data": {
      "text/html": [
       "<div>\n",
       "<style scoped>\n",
       "    .dataframe tbody tr th:only-of-type {\n",
       "        vertical-align: middle;\n",
       "    }\n",
       "\n",
       "    .dataframe tbody tr th {\n",
       "        vertical-align: top;\n",
       "    }\n",
       "\n",
       "    .dataframe thead th {\n",
       "        text-align: right;\n",
       "    }\n",
       "</style>\n",
       "<table border=\"1\" class=\"dataframe\">\n",
       "  <thead>\n",
       "    <tr style=\"text-align: right;\">\n",
       "      <th></th>\n",
       "      <th>AtBat</th>\n",
       "      <th>Hits</th>\n",
       "      <th>Walks</th>\n",
       "      <th>CRBI</th>\n",
       "      <th>PutOuts</th>\n",
       "      <th>Division_W</th>\n",
       "    </tr>\n",
       "  </thead>\n",
       "  <tbody>\n",
       "    <tr>\n",
       "      <th>1</th>\n",
       "      <td>315</td>\n",
       "      <td>81</td>\n",
       "      <td>39</td>\n",
       "      <td>414</td>\n",
       "      <td>632</td>\n",
       "      <td>1</td>\n",
       "    </tr>\n",
       "    <tr>\n",
       "      <th>2</th>\n",
       "      <td>479</td>\n",
       "      <td>130</td>\n",
       "      <td>76</td>\n",
       "      <td>266</td>\n",
       "      <td>880</td>\n",
       "      <td>1</td>\n",
       "    </tr>\n",
       "    <tr>\n",
       "      <th>3</th>\n",
       "      <td>496</td>\n",
       "      <td>141</td>\n",
       "      <td>37</td>\n",
       "      <td>838</td>\n",
       "      <td>200</td>\n",
       "      <td>0</td>\n",
       "    </tr>\n",
       "    <tr>\n",
       "      <th>4</th>\n",
       "      <td>321</td>\n",
       "      <td>87</td>\n",
       "      <td>30</td>\n",
       "      <td>46</td>\n",
       "      <td>805</td>\n",
       "      <td>0</td>\n",
       "    </tr>\n",
       "    <tr>\n",
       "      <th>5</th>\n",
       "      <td>594</td>\n",
       "      <td>169</td>\n",
       "      <td>35</td>\n",
       "      <td>336</td>\n",
       "      <td>282</td>\n",
       "      <td>1</td>\n",
       "    </tr>\n",
       "  </tbody>\n",
       "</table>\n",
       "</div>"
      ],
      "text/plain": [
       "   AtBat  Hits  Walks  CRBI  PutOuts  Division_W\n",
       "1    315    81     39   414      632           1\n",
       "2    479   130     76   266      880           1\n",
       "3    496   141     37   838      200           0\n",
       "4    321    87     30    46      805           0\n",
       "5    594   169     35   336      282           1"
      ]
     },
     "execution_count": 10,
     "metadata": {},
     "output_type": "execute_result"
    }
   ],
   "source": [
    "X.iloc[:, list(best_subsets[5])].head()"
   ]
  },
  {
   "cell_type": "markdown",
   "metadata": {},
   "source": [
    "---\n",
    "## **2. Forward and backward stepwise selection**"
   ]
  },
  {
   "cell_type": "markdown",
   "metadata": {},
   "source": [
    "Two other methods that do not exist in `sklearn`. Let's implement forward stepwise selection, using $R^2$ as our selection metric. We first make a function that, given a set of predictors, chooses the additional predictor that improves the model the most, then loop through the function."
   ]
  },
  {
   "cell_type": "code",
   "execution_count": 11,
   "metadata": {},
   "outputs": [],
   "source": [
    "def forward_step(estimator, X, y, predictors=[]):\n",
    "    remaining = [i for i in range(X.shape[1]) if i not in predictors]\n",
    "    \n",
    "    best_score = -np.inf\n",
    "    best_feature = None\n",
    "    for i in remaining:\n",
    "        linreg.fit(X.iloc[:, predictors + [i]], y)\n",
    "        score = linreg.score(X.iloc[:, predictors + [i]], y)\n",
    "        if score > best_score:\n",
    "            best_score, best_feature = score, i\n",
    "            \n",
    "    predictors.append(best_feature)\n",
    "    return predictors, best_score"
   ]
  },
  {
   "cell_type": "code",
   "execution_count": 12,
   "metadata": {},
   "outputs": [],
   "source": [
    "def forward_selection(estimator, X, y, k):\n",
    "    predictors = []\n",
    "    for _ in range(k):\n",
    "        predictors, score = forward_step(linreg, X, y, predictors)\n",
    "    return predictors, score"
   ]
  },
  {
   "cell_type": "code",
   "execution_count": 13,
   "metadata": {},
   "outputs": [
    {
     "name": "stdout",
     "output_type": "stream",
     "text": [
      "([11], 0.3214500886678947)\n",
      "([11, 1], 0.42522374646677885)\n",
      "([11, 1, 13], 0.45142941571795725)\n",
      "([11, 1, 13, 17], 0.47540665339478694)\n",
      "([11, 1, 13, 17, 0], 0.4908036159635182)\n",
      "([11, 1, 13, 17, 0, 5], 0.5087145573589968)\n",
      "([11, 1, 13, 17, 0, 5, 12], 0.5132286393324803)\n",
      "([11, 1, 13, 17, 0, 5, 12, 10], 0.5281385504329165)\n"
     ]
    }
   ],
   "source": [
    "for k in range(1, 9):\n",
    "    print(forward_selection(linreg, X, y, k))"
   ]
  },
  {
   "cell_type": "markdown",
   "metadata": {},
   "source": [
    "For comparison, here is what we got from best subset selection:"
   ]
  },
  {
   "cell_type": "code",
   "execution_count": 14,
   "metadata": {},
   "outputs": [
    {
     "name": "stdout",
     "output_type": "stream",
     "text": [
      "[(11,), (1, 11), (1, 11, 13), (1, 11, 13, 17), (0, 1, 11, 13, 17), (0, 1, 5, 11, 13, 17), (1, 5, 7, 8, 9, 13, 17), (0, 1, 5, 9, 10, 12, 13, 17)]\n",
      "[0.3214500886678947, 0.42522374646677885, 0.45142941571795725, 0.47540665339478694, 0.4908036159635183, 0.5087145573589966, 0.5141226823612731, 0.5285568603025744]\n"
     ]
    }
   ],
   "source": [
    "print(best_subsets)\n",
    "print(scores)"
   ]
  },
  {
   "cell_type": "markdown",
   "metadata": {},
   "source": [
    "The first 6 iterations give the same results, but the 7- and 8- feature models are slightly different in best subset selection (the $R^2$ scores are slightly better but not significantly so)."
   ]
  },
  {
   "cell_type": "markdown",
   "metadata": {},
   "source": [
    "Backwards feature selection is the same, except we loop down. I'll leave it as an exercise."
   ]
  },
  {
   "cell_type": "code",
   "execution_count": 15,
   "metadata": {},
   "outputs": [],
   "source": [
    "def back_step(estimator, X, y, predictors=list(range(X.shape[1]))):\n",
    "        \n",
    "    best_score = -np.inf\n",
    "    best_feature = None\n",
    "    for i in range(len(predictors)):\n",
    "        copy = predictors.copy()\n",
    "        copy.pop(i)\n",
    "        linreg.fit(X.iloc[:, copy], y)\n",
    "        score = linreg.score(X.iloc[:, copy], y)\n",
    "        if score > best_score:\n",
    "            best_score, best_feature = score, i\n",
    "            \n",
    "    predictors.pop(best_feature)\n",
    "    return predictors, best_score"
   ]
  },
  {
   "cell_type": "code",
   "execution_count": 16,
   "metadata": {},
   "outputs": [],
   "source": [
    "def backward_selection(estimator, X, y, k):\n",
    "    predictors = list(range(X.shape[1]))\n",
    "    for _ in range(len(predictors) - k):\n",
    "        predictors, score = back_step(linreg, X, y, predictors)\n",
    "    return predictors, score"
   ]
  },
  {
   "cell_type": "code",
   "execution_count": 17,
   "metadata": {},
   "outputs": [
    {
     "name": "stdout",
     "output_type": "stream",
     "text": [
      "([10], 0.316606206461607)\n",
      "([1, 10], 0.4147790923761453)\n",
      "([1, 10, 13], 0.44846612094368565)\n",
      "([0, 1, 10, 13], 0.4664050937014217)\n",
      "([0, 1, 5, 10, 13], 0.4840588562432552)\n",
      "([0, 1, 5, 10, 13, 17], 0.49972738619776513)\n",
      "([0, 1, 5, 10, 12, 13, 17], 0.5136174236566009)\n",
      "([0, 1, 5, 10, 11, 12, 13, 17], 0.5281385504329165)\n"
     ]
    }
   ],
   "source": [
    "for k in range(1, 9):\n",
    "    print(backward_selection(linreg, X, y, k))"
   ]
  },
  {
   "cell_type": "markdown",
   "metadata": {},
   "source": [
    "We do obtain different results this time."
   ]
  },
  {
   "cell_type": "markdown",
   "metadata": {},
   "source": [
    "---\n",
    "## **3. Choosing among models** \n",
    "The method is as follow: we first use a train/test split or a cross-validation method to select the best number $\\ell$ of features to include in our model, using MSE as our metric to decide what is \"best\".\n",
    "\n",
    "We then perform a best subset selection over all possible subsets of size $\\ell$, using the full dataset, to choose our final predictors.  \n",
    "\n",
    "\n",
    "_Note: The lab in ISLR does this for up to all 19 predictors but I don't want my computer to explode so I'll stick to 8 or less. Feel free to use more predictors if your machine was stolen from NASA._"
   ]
  },
  {
   "cell_type": "code",
   "execution_count": 18,
   "metadata": {},
   "outputs": [],
   "source": [
    "from sklearn.model_selection import train_test_split\n",
    "X_train, X_test, y_train, y_test = train_test_split(X, y, \n",
    "                                                    test_size = 0.5, \n",
    "                                                    random_state=123)"
   ]
  },
  {
   "cell_type": "code",
   "execution_count": 19,
   "metadata": {},
   "outputs": [
    {
     "name": "stdout",
     "output_type": "stream",
     "text": [
      "k = 1 R^2 = 0.440\n",
      "k = 2 R^2 = 0.492\n",
      "k = 3 R^2 = 0.519\n",
      "k = 4 R^2 = 0.533\n",
      "k = 5 R^2 = 0.548\n",
      "k = 6 R^2 = 0.556\n",
      "k = 7 R^2 = 0.565\n",
      "k = 8 R^2 = 0.571\n",
      "[0.43960371850356594, 0.49219240555901855, 0.5186165574202177, 0.533219397823149, 0.5478703877024855, 0.5561440320930918, 0.564646336333087, 0.5711548622252366]\n",
      "[(11,), (11, 13), (11, 13, 17), (6, 11, 13, 17), (6, 10, 11, 13, 17), (2, 5, 6, 11, 13, 17), (2, 5, 6, 8, 9, 13, 17), (2, 5, 7, 8, 9, 13, 14, 17)]\n"
     ]
    }
   ],
   "source": [
    "scores_split = []\n",
    "best_subsets_split = []\n",
    "for k in range(1, 9):\n",
    "    subset, score = best_subset_k(linreg, X_train, y_train, k)\n",
    "    print('k =', k, 'R^2 =', f\"{score:.3f}\")\n",
    "    scores_split.append(score)\n",
    "    best_subsets_split.append(subset)\n",
    "    \n",
    "print(scores_split)\n",
    "print(best_subsets_split)"
   ]
  },
  {
   "cell_type": "markdown",
   "metadata": {},
   "source": [
    "For comparison:"
   ]
  },
  {
   "cell_type": "code",
   "execution_count": 20,
   "metadata": {},
   "outputs": [
    {
     "data": {
      "text/plain": [
       "[(11,),\n",
       " (1, 11),\n",
       " (1, 11, 13),\n",
       " (1, 11, 13, 17),\n",
       " (0, 1, 11, 13, 17),\n",
       " (0, 1, 5, 11, 13, 17),\n",
       " (1, 5, 7, 8, 9, 13, 17),\n",
       " (0, 1, 5, 9, 10, 12, 13, 17)]"
      ]
     },
     "execution_count": 20,
     "metadata": {},
     "output_type": "execute_result"
    }
   ],
   "source": [
    "best_subsets"
   ]
  },
  {
   "cell_type": "markdown",
   "metadata": {},
   "source": [
    "So we already got slightly different subsets with our train/test split. Let's take a look at our MSEs:"
   ]
  },
  {
   "cell_type": "code",
   "execution_count": 21,
   "metadata": {},
   "outputs": [],
   "source": [
    "test_mses = []\n",
    "for i in range(8):\n",
    "    linreg.fit(X_train.iloc[:,list(best_subsets_split[i])], y_train)\n",
    "    y_pred = linreg.predict(X_test.iloc[:,list(best_subsets_split[i])])\n",
    "    mse = sklearn.metrics.mean_squared_error(y_test, y_pred)\n",
    "    test_mses.append(mse)"
   ]
  },
  {
   "cell_type": "code",
   "execution_count": 22,
   "metadata": {},
   "outputs": [
    {
     "data": {
      "image/png": "[encoded data removed]",
      "text/plain": [
       "<Figure size 432x288 with 1 Axes>"
      ]
     },
     "metadata": {},
     "output_type": "display_data"
    }
   ],
   "source": [
    "plt.plot(range(1, 9), test_mses);"
   ]
  },
  {
   "cell_type": "markdown",
   "metadata": {},
   "source": [
    "Looks like the 8-predictor model is superior (note: in ISLR they perform best subset selection on all numbers of predictors and deduce that a 10-predictor model is better. You might want to check that, if your machine can do it).\n",
    "\n",
    "Last step: now that we know that the best number of features to use, we refit the model using all the variables and extract the best subset. We already did this earlier, so no need to tax our CPU any further."
   ]
  },
  {
   "cell_type": "code",
   "execution_count": 23,
   "metadata": {},
   "outputs": [
    {
     "data": {
      "text/html": [
       "<div>\n",
       "<style scoped>\n",
       "    .dataframe tbody tr th:only-of-type {\n",
       "        vertical-align: middle;\n",
       "    }\n",
       "\n",
       "    .dataframe tbody tr th {\n",
       "        vertical-align: top;\n",
       "    }\n",
       "\n",
       "    .dataframe thead th {\n",
       "        text-align: right;\n",
       "    }\n",
       "</style>\n",
       "<table border=\"1\" class=\"dataframe\">\n",
       "  <thead>\n",
       "    <tr style=\"text-align: right;\">\n",
       "      <th></th>\n",
       "      <th>AtBat</th>\n",
       "      <th>Hits</th>\n",
       "      <th>Walks</th>\n",
       "      <th>CHmRun</th>\n",
       "      <th>CRuns</th>\n",
       "      <th>CWalks</th>\n",
       "      <th>PutOuts</th>\n",
       "      <th>Division_W</th>\n",
       "    </tr>\n",
       "  </thead>\n",
       "  <tbody>\n",
       "    <tr>\n",
       "      <th>1</th>\n",
       "      <td>315</td>\n",
       "      <td>81</td>\n",
       "      <td>39</td>\n",
       "      <td>69</td>\n",
       "      <td>321</td>\n",
       "      <td>375</td>\n",
       "      <td>632</td>\n",
       "      <td>1</td>\n",
       "    </tr>\n",
       "    <tr>\n",
       "      <th>2</th>\n",
       "      <td>479</td>\n",
       "      <td>130</td>\n",
       "      <td>76</td>\n",
       "      <td>63</td>\n",
       "      <td>224</td>\n",
       "      <td>263</td>\n",
       "      <td>880</td>\n",
       "      <td>1</td>\n",
       "    </tr>\n",
       "    <tr>\n",
       "      <th>3</th>\n",
       "      <td>496</td>\n",
       "      <td>141</td>\n",
       "      <td>37</td>\n",
       "      <td>225</td>\n",
       "      <td>828</td>\n",
       "      <td>354</td>\n",
       "      <td>200</td>\n",
       "      <td>0</td>\n",
       "    </tr>\n",
       "    <tr>\n",
       "      <th>4</th>\n",
       "      <td>321</td>\n",
       "      <td>87</td>\n",
       "      <td>30</td>\n",
       "      <td>12</td>\n",
       "      <td>48</td>\n",
       "      <td>33</td>\n",
       "      <td>805</td>\n",
       "      <td>0</td>\n",
       "    </tr>\n",
       "    <tr>\n",
       "      <th>5</th>\n",
       "      <td>594</td>\n",
       "      <td>169</td>\n",
       "      <td>35</td>\n",
       "      <td>19</td>\n",
       "      <td>501</td>\n",
       "      <td>194</td>\n",
       "      <td>282</td>\n",
       "      <td>1</td>\n",
       "    </tr>\n",
       "    <tr>\n",
       "      <th>...</th>\n",
       "      <td>...</td>\n",
       "      <td>...</td>\n",
       "      <td>...</td>\n",
       "      <td>...</td>\n",
       "      <td>...</td>\n",
       "      <td>...</td>\n",
       "      <td>...</td>\n",
       "      <td>...</td>\n",
       "    </tr>\n",
       "    <tr>\n",
       "      <th>317</th>\n",
       "      <td>497</td>\n",
       "      <td>127</td>\n",
       "      <td>37</td>\n",
       "      <td>32</td>\n",
       "      <td>379</td>\n",
       "      <td>138</td>\n",
       "      <td>325</td>\n",
       "      <td>0</td>\n",
       "    </tr>\n",
       "    <tr>\n",
       "      <th>318</th>\n",
       "      <td>492</td>\n",
       "      <td>136</td>\n",
       "      <td>94</td>\n",
       "      <td>39</td>\n",
       "      <td>897</td>\n",
       "      <td>875</td>\n",
       "      <td>313</td>\n",
       "      <td>0</td>\n",
       "    </tr>\n",
       "    <tr>\n",
       "      <th>319</th>\n",
       "      <td>475</td>\n",
       "      <td>126</td>\n",
       "      <td>52</td>\n",
       "      <td>7</td>\n",
       "      <td>217</td>\n",
       "      <td>146</td>\n",
       "      <td>37</td>\n",
       "      <td>1</td>\n",
       "    </tr>\n",
       "    <tr>\n",
       "      <th>320</th>\n",
       "      <td>573</td>\n",
       "      <td>144</td>\n",
       "      <td>78</td>\n",
       "      <td>97</td>\n",
       "      <td>470</td>\n",
       "      <td>332</td>\n",
       "      <td>1314</td>\n",
       "      <td>0</td>\n",
       "    </tr>\n",
       "    <tr>\n",
       "      <th>321</th>\n",
       "      <td>631</td>\n",
       "      <td>170</td>\n",
       "      <td>31</td>\n",
       "      <td>30</td>\n",
       "      <td>775</td>\n",
       "      <td>249</td>\n",
       "      <td>408</td>\n",
       "      <td>1</td>\n",
       "    </tr>\n",
       "  </tbody>\n",
       "</table>\n",
       "<p>263 rows × 8 columns</p>\n",
       "</div>"
      ],
      "text/plain": [
       "     AtBat  Hits  Walks  CHmRun  CRuns  CWalks  PutOuts  Division_W\n",
       "1      315    81     39      69    321     375      632           1\n",
       "2      479   130     76      63    224     263      880           1\n",
       "3      496   141     37     225    828     354      200           0\n",
       "4      321    87     30      12     48      33      805           0\n",
       "5      594   169     35      19    501     194      282           1\n",
       "..     ...   ...    ...     ...    ...     ...      ...         ...\n",
       "317    497   127     37      32    379     138      325           0\n",
       "318    492   136     94      39    897     875      313           0\n",
       "319    475   126     52       7    217     146       37           1\n",
       "320    573   144     78      97    470     332     1314           0\n",
       "321    631   170     31      30    775     249      408           1\n",
       "\n",
       "[263 rows x 8 columns]"
      ]
     },
     "execution_count": 23,
     "metadata": {},
     "output_type": "execute_result"
    }
   ],
   "source": [
    "X.iloc[:, list(best_subsets[7])]"
   ]
  },
  {
   "cell_type": "markdown",
   "metadata": {},
   "source": [
    "Let's use cross-validation and see if we get a different answer; the following function makes use of our `best_subset_k` function again. It then runs our estimator through a cross-validation using mean squared error as its metric, and returns the best subset of all the ones we evaluated. \n",
    "\n",
    "Note that I added an option to pass our already-computed list of best subsets for each $k$ computed according to the test/train split in order to speed up computations."
   ]
  },
  {
   "cell_type": "code",
   "execution_count": 24,
   "metadata": {},
   "outputs": [],
   "source": [
    "def best_subset_cv(estimator, X, y, max_size=8, cv=5, best_subsets_k = None):\n",
    "    \n",
    "    if not best_subsets_k:  # find the best subset for each k\n",
    "        p = X.shape[1]  \n",
    "        best_subsets_k = []\n",
    "        for k in range(1, min(max_size, p) + 1):  # first select the best subset for each k\n",
    "            best_subsets_k.append(best_subset_k(estimator, X, y, k)[0])\n",
    "\n",
    "    kfold = sklearn.model_selection.KFold(cv, random_state=123, shuffle=True)\n",
    "    best_subset = None\n",
    "    best_score = -np.inf\n",
    "    list_scores = []\n",
    "    for subset in best_subsets_k: \n",
    "        score = cross_val_score(estimator, X.iloc[:, list(subset)], y, \n",
    "                                scoring='neg_mean_squared_error', cv=kfold).mean()\n",
    "        list_scores.append(-score)\n",
    "        if score > best_score:\n",
    "            best_score, best_subset = score, subset\n",
    "        \n",
    "    return best_subset, best_score, best_subsets_k, list_scores"
   ]
  },
  {
   "cell_type": "code",
   "execution_count": 25,
   "metadata": {},
   "outputs": [
    {
     "ename": "NameError",
     "evalue": "name 'cross_val_score' is not defined",
     "output_type": "error",
     "traceback": [
      "\u001b[0;31m---------------------------------------------------------------------------\u001b[0m",
      "\u001b[0;31mNameError\u001b[0m                                 Traceback (most recent call last)",
      "\u001b[0;32m<ipython-input-25-9a270c75481d>\u001b[0m in \u001b[0;36m<module>\u001b[0;34m\u001b[0m\n\u001b[0;32m----> 1\u001b[0;31m best_subset_cv, best_score_cv, best_subsets_k, list_scores = best_subset_cv(\n\u001b[0m\u001b[1;32m      2\u001b[0m     linreg, X_train, y_train, cv=10, best_subsets_k=best_subsets_split)\n",
      "\u001b[0;32m<ipython-input-24-e6922424df6e>\u001b[0m in \u001b[0;36mbest_subset_cv\u001b[0;34m(estimator, X, y, max_size, cv, best_subsets_k)\u001b[0m\n\u001b[1;32m     12\u001b[0m     \u001b[0mlist_scores\u001b[0m \u001b[0;34m=\u001b[0m \u001b[0;34m[\u001b[0m\u001b[0;34m]\u001b[0m\u001b[0;34m\u001b[0m\u001b[0;34m\u001b[0m\u001b[0m\n\u001b[1;32m     13\u001b[0m     \u001b[0;32mfor\u001b[0m \u001b[0msubset\u001b[0m \u001b[0;32min\u001b[0m \u001b[0mbest_subsets_k\u001b[0m\u001b[0;34m:\u001b[0m\u001b[0;34m\u001b[0m\u001b[0;34m\u001b[0m\u001b[0m\n\u001b[0;32m---> 14\u001b[0;31m         score = cross_val_score(estimator, X.iloc[:, list(subset)], y, \n\u001b[0m\u001b[1;32m     15\u001b[0m                                 scoring='neg_mean_squared_error', cv=kfold).mean()\n\u001b[1;32m     16\u001b[0m         \u001b[0mlist_scores\u001b[0m\u001b[0;34m.\u001b[0m\u001b[0mappend\u001b[0m\u001b[0;34m(\u001b[0m\u001b[0;34m-\u001b[0m\u001b[0mscore\u001b[0m\u001b[0;34m)\u001b[0m\u001b[0;34m\u001b[0m\u001b[0;34m\u001b[0m\u001b[0m\n",
      "\u001b[0;31mNameError\u001b[0m: name 'cross_val_score' is not defined"
     ]
    }
   ],
   "source": [
    "best_subset_cv, best_score_cv, best_subsets_k, list_scores = best_subset_cv(\n",
    "    linreg, X_train, y_train, cv=10, best_subsets_k=best_subsets_split)"
   ]
  },
  {
   "cell_type": "code",
   "execution_count": null,
   "metadata": {},
   "outputs": [],
   "source": [
    "print(best_subset_cv)\n",
    "print(best_score_cv)\n",
    "print(list_scores)"
   ]
  },
  {
   "cell_type": "code",
   "execution_count": null,
   "metadata": {},
   "outputs": [],
   "source": [
    "plt.plot(range(1,9), list_scores);"
   ]
  },
  {
   "cell_type": "markdown",
   "metadata": {},
   "source": [
    "According to this method, the 5-variable model is the best one (although not by much). This corresponds to the variables:"
   ]
  },
  {
   "cell_type": "code",
   "execution_count": null,
   "metadata": {},
   "outputs": [],
   "source": [
    "X.iloc[:,list(best_subsets[4])]"
   ]
  },
  {
   "cell_type": "code",
   "execution_count": null,
   "metadata": {},
   "outputs": [],
   "source": []
  }
 ],
 "metadata": {
  "kernelspec": {
   "display_name": "Python 3",
   "language": "python",
   "name": "python3"
  },
  "language_info": {
   "codemirror_mode": {
    "name": "ipython",
    "version": 3
   },
   "file_extension": ".py",
   "mimetype": "text/x-python",
   "name": "python",
   "nbconvert_exporter": "python",
   "pygments_lexer": "ipython3",
   "version": "3.8.5"
  }
 },
 "nbformat": 4,
 "nbformat_minor": 4
}
